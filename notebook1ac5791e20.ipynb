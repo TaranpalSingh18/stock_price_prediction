{
 "cells": [
  {
   "cell_type": "code",
   "execution_count": 1,
   "id": "b9f3d135",
   "metadata": {
    "_cell_guid": "b1076dfc-b9ad-4769-8c92-a6c4dae69d19",
    "_uuid": "8f2839f25d086af736a60e9eeb907d3b93b6e0e5",
    "execution": {
     "iopub.execute_input": "2024-04-16T17:12:56.916801Z",
     "iopub.status.busy": "2024-04-16T17:12:56.915736Z",
     "iopub.status.idle": "2024-04-16T17:12:58.138029Z",
     "shell.execute_reply": "2024-04-16T17:12:58.134877Z"
    },
    "papermill": {
     "duration": 1.239549,
     "end_time": "2024-04-16T17:12:58.141291",
     "exception": false,
     "start_time": "2024-04-16T17:12:56.901742",
     "status": "completed"
    },
    "tags": []
   },
   "outputs": [
    {
     "name": "stdout",
     "output_type": "stream",
     "text": [
      "/kaggle/input/nifty50-stock-market-data/HDFCBANK.csv\n",
      "/kaggle/input/nifty50-stock-market-data/GRASIM.csv\n",
      "/kaggle/input/nifty50-stock-market-data/WIPRO.csv\n",
      "/kaggle/input/nifty50-stock-market-data/stock_metadata.csv\n",
      "/kaggle/input/nifty50-stock-market-data/BPCL.csv\n",
      "/kaggle/input/nifty50-stock-market-data/INFY.csv\n",
      "/kaggle/input/nifty50-stock-market-data/LT.csv\n",
      "/kaggle/input/nifty50-stock-market-data/RELIANCE.csv\n",
      "/kaggle/input/nifty50-stock-market-data/BRITANNIA.csv\n",
      "/kaggle/input/nifty50-stock-market-data/INFRATEL.csv\n",
      "/kaggle/input/nifty50-stock-market-data/HEROMOTOCO.csv\n",
      "/kaggle/input/nifty50-stock-market-data/HINDUNILVR.csv\n",
      "/kaggle/input/nifty50-stock-market-data/TATAMOTORS.csv\n",
      "/kaggle/input/nifty50-stock-market-data/MM.csv\n",
      "/kaggle/input/nifty50-stock-market-data/HDFC.csv\n",
      "/kaggle/input/nifty50-stock-market-data/JSWSTEEL.csv\n",
      "/kaggle/input/nifty50-stock-market-data/TITAN.csv\n",
      "/kaggle/input/nifty50-stock-market-data/HINDALCO.csv\n",
      "/kaggle/input/nifty50-stock-market-data/AXISBANK.csv\n",
      "/kaggle/input/nifty50-stock-market-data/HCLTECH.csv\n",
      "/kaggle/input/nifty50-stock-market-data/ADANIPORTS.csv\n",
      "/kaggle/input/nifty50-stock-market-data/GAIL.csv\n",
      "/kaggle/input/nifty50-stock-market-data/NIFTY50_all.csv\n",
      "/kaggle/input/nifty50-stock-market-data/BAJAJFINSV.csv\n",
      "/kaggle/input/nifty50-stock-market-data/BAJFINANCE.csv\n",
      "/kaggle/input/nifty50-stock-market-data/ICICIBANK.csv\n",
      "/kaggle/input/nifty50-stock-market-data/ZEEL.csv\n",
      "/kaggle/input/nifty50-stock-market-data/ASIANPAINT.csv\n",
      "/kaggle/input/nifty50-stock-market-data/IOC.csv\n",
      "/kaggle/input/nifty50-stock-market-data/TATASTEEL.csv\n",
      "/kaggle/input/nifty50-stock-market-data/COALINDIA.csv\n",
      "/kaggle/input/nifty50-stock-market-data/NESTLEIND.csv\n",
      "/kaggle/input/nifty50-stock-market-data/DRREDDY.csv\n",
      "/kaggle/input/nifty50-stock-market-data/ONGC.csv\n",
      "/kaggle/input/nifty50-stock-market-data/EICHERMOT.csv\n",
      "/kaggle/input/nifty50-stock-market-data/UPL.csv\n",
      "/kaggle/input/nifty50-stock-market-data/SUNPHARMA.csv\n",
      "/kaggle/input/nifty50-stock-market-data/ULTRACEMCO.csv\n",
      "/kaggle/input/nifty50-stock-market-data/CIPLA.csv\n",
      "/kaggle/input/nifty50-stock-market-data/SHREECEM.csv\n",
      "/kaggle/input/nifty50-stock-market-data/VEDL.csv\n",
      "/kaggle/input/nifty50-stock-market-data/TCS.csv\n",
      "/kaggle/input/nifty50-stock-market-data/NTPC.csv\n",
      "/kaggle/input/nifty50-stock-market-data/MARUTI.csv\n",
      "/kaggle/input/nifty50-stock-market-data/KOTAKBANK.csv\n",
      "/kaggle/input/nifty50-stock-market-data/ITC.csv\n",
      "/kaggle/input/nifty50-stock-market-data/BAJAJ-AUTO.csv\n",
      "/kaggle/input/nifty50-stock-market-data/SBIN.csv\n",
      "/kaggle/input/nifty50-stock-market-data/INDUSINDBK.csv\n",
      "/kaggle/input/nifty50-stock-market-data/BHARTIARTL.csv\n",
      "/kaggle/input/nifty50-stock-market-data/TECHM.csv\n",
      "/kaggle/input/nifty50-stock-market-data/POWERGRID.csv\n"
     ]
    }
   ],
   "source": [
    "# This Python 3 environment comes with many helpful analytics libraries installed\n",
    "# It is defined by the kaggle/python Docker image: https://github.com/kaggle/docker-python\n",
    "# For example, here's several helpful packages to load\n",
    "\n",
    "import numpy as np # linear algebra\n",
    "import pandas as pd # data processing, CSV file I/O (e.g. pd.read_csv)\n",
    "\n",
    "# Input data files are available in the read-only \"../input/\" directory\n",
    "# For example, running this (by clicking run or pressing Shift+Enter) will list all files under the input directory\n",
    "\n",
    "import os\n",
    "for dirname, _, filenames in os.walk('/kaggle/input'):\n",
    "    for filename in filenames:\n",
    "        print(os.path.join(dirname, filename))\n",
    "\n",
    "# You can write up to 20GB to the current directory (/kaggle/working/) that gets preserved as output when you create a version using \"Save & Run All\" \n",
    "# You can also write temporary files to /kaggle/temp/, but they won't be saved outside of the current session"
   ]
  },
  {
   "cell_type": "code",
   "execution_count": 2,
   "id": "fddd315f",
   "metadata": {
    "execution": {
     "iopub.execute_input": "2024-04-16T17:12:58.167456Z",
     "iopub.status.busy": "2024-04-16T17:12:58.166663Z",
     "iopub.status.idle": "2024-04-16T17:12:58.175031Z",
     "shell.execute_reply": "2024-04-16T17:12:58.173221Z"
    },
    "papermill": {
     "duration": 0.024838,
     "end_time": "2024-04-16T17:12:58.177886",
     "exception": false,
     "start_time": "2024-04-16T17:12:58.153048",
     "status": "completed"
    },
    "tags": []
   },
   "outputs": [],
   "source": [
    "import matplotlib.pyplot as plt\n",
    "%matplotlib inline"
   ]
  },
  {
   "cell_type": "code",
   "execution_count": 3,
   "id": "38d48bf1",
   "metadata": {
    "execution": {
     "iopub.execute_input": "2024-04-16T17:12:58.203853Z",
     "iopub.status.busy": "2024-04-16T17:12:58.203045Z",
     "iopub.status.idle": "2024-04-16T17:12:58.259574Z",
     "shell.execute_reply": "2024-04-16T17:12:58.257806Z"
    },
    "papermill": {
     "duration": 0.072606,
     "end_time": "2024-04-16T17:12:58.262528",
     "exception": false,
     "start_time": "2024-04-16T17:12:58.189922",
     "status": "completed"
    },
    "tags": []
   },
   "outputs": [],
   "source": [
    "df=pd.read_csv('/kaggle/input/nifty50-stock-market-data/ADANIPORTS.csv')\n"
   ]
  },
  {
   "cell_type": "code",
   "execution_count": 4,
   "id": "44de3007",
   "metadata": {
    "execution": {
     "iopub.execute_input": "2024-04-16T17:12:58.286910Z",
     "iopub.status.busy": "2024-04-16T17:12:58.286490Z",
     "iopub.status.idle": "2024-04-16T17:12:58.325506Z",
     "shell.execute_reply": "2024-04-16T17:12:58.323267Z"
    },
    "papermill": {
     "duration": 0.054438,
     "end_time": "2024-04-16T17:12:58.328298",
     "exception": false,
     "start_time": "2024-04-16T17:12:58.273860",
     "status": "completed"
    },
    "tags": []
   },
   "outputs": [
    {
     "data": {
      "text/html": [
       "<div>\n",
       "<style scoped>\n",
       "    .dataframe tbody tr th:only-of-type {\n",
       "        vertical-align: middle;\n",
       "    }\n",
       "\n",
       "    .dataframe tbody tr th {\n",
       "        vertical-align: top;\n",
       "    }\n",
       "\n",
       "    .dataframe thead th {\n",
       "        text-align: right;\n",
       "    }\n",
       "</style>\n",
       "<table border=\"1\" class=\"dataframe\">\n",
       "  <thead>\n",
       "    <tr style=\"text-align: right;\">\n",
       "      <th></th>\n",
       "      <th>Date</th>\n",
       "      <th>Symbol</th>\n",
       "      <th>Series</th>\n",
       "      <th>Prev Close</th>\n",
       "      <th>Open</th>\n",
       "      <th>High</th>\n",
       "      <th>Low</th>\n",
       "      <th>Last</th>\n",
       "      <th>Close</th>\n",
       "      <th>VWAP</th>\n",
       "      <th>Volume</th>\n",
       "      <th>Turnover</th>\n",
       "      <th>Trades</th>\n",
       "      <th>Deliverable Volume</th>\n",
       "      <th>%Deliverble</th>\n",
       "    </tr>\n",
       "  </thead>\n",
       "  <tbody>\n",
       "    <tr>\n",
       "      <th>0</th>\n",
       "      <td>2007-11-27</td>\n",
       "      <td>MUNDRAPORT</td>\n",
       "      <td>EQ</td>\n",
       "      <td>440.00</td>\n",
       "      <td>770.00</td>\n",
       "      <td>1050.00</td>\n",
       "      <td>770.0</td>\n",
       "      <td>959.0</td>\n",
       "      <td>962.90</td>\n",
       "      <td>984.72</td>\n",
       "      <td>27294366</td>\n",
       "      <td>2.687719e+15</td>\n",
       "      <td>NaN</td>\n",
       "      <td>9859619</td>\n",
       "      <td>0.3612</td>\n",
       "    </tr>\n",
       "    <tr>\n",
       "      <th>1</th>\n",
       "      <td>2007-11-28</td>\n",
       "      <td>MUNDRAPORT</td>\n",
       "      <td>EQ</td>\n",
       "      <td>962.90</td>\n",
       "      <td>984.00</td>\n",
       "      <td>990.00</td>\n",
       "      <td>874.0</td>\n",
       "      <td>885.0</td>\n",
       "      <td>893.90</td>\n",
       "      <td>941.38</td>\n",
       "      <td>4581338</td>\n",
       "      <td>4.312765e+14</td>\n",
       "      <td>NaN</td>\n",
       "      <td>1453278</td>\n",
       "      <td>0.3172</td>\n",
       "    </tr>\n",
       "    <tr>\n",
       "      <th>2</th>\n",
       "      <td>2007-11-29</td>\n",
       "      <td>MUNDRAPORT</td>\n",
       "      <td>EQ</td>\n",
       "      <td>893.90</td>\n",
       "      <td>909.00</td>\n",
       "      <td>914.75</td>\n",
       "      <td>841.0</td>\n",
       "      <td>887.0</td>\n",
       "      <td>884.20</td>\n",
       "      <td>888.09</td>\n",
       "      <td>5124121</td>\n",
       "      <td>4.550658e+14</td>\n",
       "      <td>NaN</td>\n",
       "      <td>1069678</td>\n",
       "      <td>0.2088</td>\n",
       "    </tr>\n",
       "    <tr>\n",
       "      <th>3</th>\n",
       "      <td>2007-11-30</td>\n",
       "      <td>MUNDRAPORT</td>\n",
       "      <td>EQ</td>\n",
       "      <td>884.20</td>\n",
       "      <td>890.00</td>\n",
       "      <td>958.00</td>\n",
       "      <td>890.0</td>\n",
       "      <td>929.0</td>\n",
       "      <td>921.55</td>\n",
       "      <td>929.17</td>\n",
       "      <td>4609762</td>\n",
       "      <td>4.283257e+14</td>\n",
       "      <td>NaN</td>\n",
       "      <td>1260913</td>\n",
       "      <td>0.2735</td>\n",
       "    </tr>\n",
       "    <tr>\n",
       "      <th>4</th>\n",
       "      <td>2007-12-03</td>\n",
       "      <td>MUNDRAPORT</td>\n",
       "      <td>EQ</td>\n",
       "      <td>921.55</td>\n",
       "      <td>939.75</td>\n",
       "      <td>995.00</td>\n",
       "      <td>922.0</td>\n",
       "      <td>980.0</td>\n",
       "      <td>969.30</td>\n",
       "      <td>965.65</td>\n",
       "      <td>2977470</td>\n",
       "      <td>2.875200e+14</td>\n",
       "      <td>NaN</td>\n",
       "      <td>816123</td>\n",
       "      <td>0.2741</td>\n",
       "    </tr>\n",
       "  </tbody>\n",
       "</table>\n",
       "</div>"
      ],
      "text/plain": [
       "         Date      Symbol Series  Prev Close    Open     High    Low   Last  \\\n",
       "0  2007-11-27  MUNDRAPORT     EQ      440.00  770.00  1050.00  770.0  959.0   \n",
       "1  2007-11-28  MUNDRAPORT     EQ      962.90  984.00   990.00  874.0  885.0   \n",
       "2  2007-11-29  MUNDRAPORT     EQ      893.90  909.00   914.75  841.0  887.0   \n",
       "3  2007-11-30  MUNDRAPORT     EQ      884.20  890.00   958.00  890.0  929.0   \n",
       "4  2007-12-03  MUNDRAPORT     EQ      921.55  939.75   995.00  922.0  980.0   \n",
       "\n",
       "    Close    VWAP    Volume      Turnover  Trades  Deliverable Volume  \\\n",
       "0  962.90  984.72  27294366  2.687719e+15     NaN             9859619   \n",
       "1  893.90  941.38   4581338  4.312765e+14     NaN             1453278   \n",
       "2  884.20  888.09   5124121  4.550658e+14     NaN             1069678   \n",
       "3  921.55  929.17   4609762  4.283257e+14     NaN             1260913   \n",
       "4  969.30  965.65   2977470  2.875200e+14     NaN              816123   \n",
       "\n",
       "   %Deliverble  \n",
       "0       0.3612  \n",
       "1       0.3172  \n",
       "2       0.2088  \n",
       "3       0.2735  \n",
       "4       0.2741  "
      ]
     },
     "execution_count": 4,
     "metadata": {},
     "output_type": "execute_result"
    }
   ],
   "source": [
    "df.head()"
   ]
  },
  {
   "cell_type": "code",
   "execution_count": 5,
   "id": "6bd00397",
   "metadata": {
    "execution": {
     "iopub.execute_input": "2024-04-16T17:12:58.354314Z",
     "iopub.status.busy": "2024-04-16T17:12:58.353133Z",
     "iopub.status.idle": "2024-04-16T17:12:58.381426Z",
     "shell.execute_reply": "2024-04-16T17:12:58.379863Z"
    },
    "papermill": {
     "duration": 0.045251,
     "end_time": "2024-04-16T17:12:58.385166",
     "exception": false,
     "start_time": "2024-04-16T17:12:58.339915",
     "status": "completed"
    },
    "tags": []
   },
   "outputs": [
    {
     "data": {
      "text/html": [
       "<div>\n",
       "<style scoped>\n",
       "    .dataframe tbody tr th:only-of-type {\n",
       "        vertical-align: middle;\n",
       "    }\n",
       "\n",
       "    .dataframe tbody tr th {\n",
       "        vertical-align: top;\n",
       "    }\n",
       "\n",
       "    .dataframe thead th {\n",
       "        text-align: right;\n",
       "    }\n",
       "</style>\n",
       "<table border=\"1\" class=\"dataframe\">\n",
       "  <thead>\n",
       "    <tr style=\"text-align: right;\">\n",
       "      <th></th>\n",
       "      <th>Date</th>\n",
       "      <th>Symbol</th>\n",
       "      <th>Series</th>\n",
       "      <th>Prev Close</th>\n",
       "      <th>Open</th>\n",
       "      <th>High</th>\n",
       "      <th>Low</th>\n",
       "      <th>Last</th>\n",
       "      <th>Close</th>\n",
       "      <th>VWAP</th>\n",
       "      <th>Volume</th>\n",
       "      <th>Turnover</th>\n",
       "      <th>Trades</th>\n",
       "      <th>Deliverable Volume</th>\n",
       "      <th>%Deliverble</th>\n",
       "    </tr>\n",
       "  </thead>\n",
       "  <tbody>\n",
       "    <tr>\n",
       "      <th>3317</th>\n",
       "      <td>2021-04-26</td>\n",
       "      <td>ADANIPORTS</td>\n",
       "      <td>EQ</td>\n",
       "      <td>725.35</td>\n",
       "      <td>733.0</td>\n",
       "      <td>739.65</td>\n",
       "      <td>728.90</td>\n",
       "      <td>729.2</td>\n",
       "      <td>730.75</td>\n",
       "      <td>733.25</td>\n",
       "      <td>9390549</td>\n",
       "      <td>6.885658e+14</td>\n",
       "      <td>116457.0</td>\n",
       "      <td>838079</td>\n",
       "      <td>0.0892</td>\n",
       "    </tr>\n",
       "    <tr>\n",
       "      <th>3318</th>\n",
       "      <td>2021-04-27</td>\n",
       "      <td>ADANIPORTS</td>\n",
       "      <td>EQ</td>\n",
       "      <td>730.75</td>\n",
       "      <td>735.0</td>\n",
       "      <td>757.50</td>\n",
       "      <td>727.35</td>\n",
       "      <td>748.6</td>\n",
       "      <td>749.15</td>\n",
       "      <td>747.67</td>\n",
       "      <td>20573107</td>\n",
       "      <td>1.538191e+15</td>\n",
       "      <td>236896.0</td>\n",
       "      <td>1779639</td>\n",
       "      <td>0.0865</td>\n",
       "    </tr>\n",
       "    <tr>\n",
       "      <th>3319</th>\n",
       "      <td>2021-04-28</td>\n",
       "      <td>ADANIPORTS</td>\n",
       "      <td>EQ</td>\n",
       "      <td>749.15</td>\n",
       "      <td>755.0</td>\n",
       "      <td>760.00</td>\n",
       "      <td>741.10</td>\n",
       "      <td>743.4</td>\n",
       "      <td>746.25</td>\n",
       "      <td>751.02</td>\n",
       "      <td>11156977</td>\n",
       "      <td>8.379106e+14</td>\n",
       "      <td>130847.0</td>\n",
       "      <td>1342353</td>\n",
       "      <td>0.1203</td>\n",
       "    </tr>\n",
       "    <tr>\n",
       "      <th>3320</th>\n",
       "      <td>2021-04-29</td>\n",
       "      <td>ADANIPORTS</td>\n",
       "      <td>EQ</td>\n",
       "      <td>746.25</td>\n",
       "      <td>753.2</td>\n",
       "      <td>765.85</td>\n",
       "      <td>743.40</td>\n",
       "      <td>746.4</td>\n",
       "      <td>746.75</td>\n",
       "      <td>753.06</td>\n",
       "      <td>13851910</td>\n",
       "      <td>1.043139e+15</td>\n",
       "      <td>153293.0</td>\n",
       "      <td>1304895</td>\n",
       "      <td>0.0942</td>\n",
       "    </tr>\n",
       "    <tr>\n",
       "      <th>3321</th>\n",
       "      <td>2021-04-30</td>\n",
       "      <td>ADANIPORTS</td>\n",
       "      <td>EQ</td>\n",
       "      <td>746.75</td>\n",
       "      <td>739.0</td>\n",
       "      <td>759.45</td>\n",
       "      <td>724.50</td>\n",
       "      <td>726.4</td>\n",
       "      <td>730.05</td>\n",
       "      <td>743.35</td>\n",
       "      <td>12600934</td>\n",
       "      <td>9.366911e+14</td>\n",
       "      <td>132141.0</td>\n",
       "      <td>3514692</td>\n",
       "      <td>0.2789</td>\n",
       "    </tr>\n",
       "  </tbody>\n",
       "</table>\n",
       "</div>"
      ],
      "text/plain": [
       "            Date      Symbol Series  Prev Close   Open    High     Low   Last  \\\n",
       "3317  2021-04-26  ADANIPORTS     EQ      725.35  733.0  739.65  728.90  729.2   \n",
       "3318  2021-04-27  ADANIPORTS     EQ      730.75  735.0  757.50  727.35  748.6   \n",
       "3319  2021-04-28  ADANIPORTS     EQ      749.15  755.0  760.00  741.10  743.4   \n",
       "3320  2021-04-29  ADANIPORTS     EQ      746.25  753.2  765.85  743.40  746.4   \n",
       "3321  2021-04-30  ADANIPORTS     EQ      746.75  739.0  759.45  724.50  726.4   \n",
       "\n",
       "       Close    VWAP    Volume      Turnover    Trades  Deliverable Volume  \\\n",
       "3317  730.75  733.25   9390549  6.885658e+14  116457.0              838079   \n",
       "3318  749.15  747.67  20573107  1.538191e+15  236896.0             1779639   \n",
       "3319  746.25  751.02  11156977  8.379106e+14  130847.0             1342353   \n",
       "3320  746.75  753.06  13851910  1.043139e+15  153293.0             1304895   \n",
       "3321  730.05  743.35  12600934  9.366911e+14  132141.0             3514692   \n",
       "\n",
       "      %Deliverble  \n",
       "3317       0.0892  \n",
       "3318       0.0865  \n",
       "3319       0.1203  \n",
       "3320       0.0942  \n",
       "3321       0.2789  "
      ]
     },
     "execution_count": 5,
     "metadata": {},
     "output_type": "execute_result"
    }
   ],
   "source": [
    "df.tail()"
   ]
  },
  {
   "cell_type": "code",
   "execution_count": 6,
   "id": "47d69935",
   "metadata": {
    "execution": {
     "iopub.execute_input": "2024-04-16T17:12:58.412675Z",
     "iopub.status.busy": "2024-04-16T17:12:58.412226Z",
     "iopub.status.idle": "2024-04-16T17:12:58.424835Z",
     "shell.execute_reply": "2024-04-16T17:12:58.423872Z"
    },
    "papermill": {
     "duration": 0.028853,
     "end_time": "2024-04-16T17:12:58.427260",
     "exception": false,
     "start_time": "2024-04-16T17:12:58.398407",
     "status": "completed"
    },
    "tags": []
   },
   "outputs": [],
   "source": [
    "df.drop(columns=['Symbol','Series','Turnover'],axis=1,inplace=True)"
   ]
  },
  {
   "cell_type": "code",
   "execution_count": 7,
   "id": "0edc54e0",
   "metadata": {
    "execution": {
     "iopub.execute_input": "2024-04-16T17:12:58.456790Z",
     "iopub.status.busy": "2024-04-16T17:12:58.456136Z",
     "iopub.status.idle": "2024-04-16T17:12:58.464079Z",
     "shell.execute_reply": "2024-04-16T17:12:58.462982Z"
    },
    "papermill": {
     "duration": 0.024184,
     "end_time": "2024-04-16T17:12:58.466588",
     "exception": false,
     "start_time": "2024-04-16T17:12:58.442404",
     "status": "completed"
    },
    "tags": []
   },
   "outputs": [
    {
     "data": {
      "text/plain": [
       "Index(['Date', 'Prev Close', 'Open', 'High', 'Low', 'Last', 'Close', 'VWAP',\n",
       "       'Volume', 'Trades', 'Deliverable Volume', '%Deliverble'],\n",
       "      dtype='object')"
      ]
     },
     "execution_count": 7,
     "metadata": {},
     "output_type": "execute_result"
    }
   ],
   "source": [
    "df.columns"
   ]
  },
  {
   "cell_type": "code",
   "execution_count": 8,
   "id": "7e8c2913",
   "metadata": {
    "execution": {
     "iopub.execute_input": "2024-04-16T17:12:58.493447Z",
     "iopub.status.busy": "2024-04-16T17:12:58.492536Z",
     "iopub.status.idle": "2024-04-16T17:12:58.510585Z",
     "shell.execute_reply": "2024-04-16T17:12:58.509151Z"
    },
    "papermill": {
     "duration": 0.035063,
     "end_time": "2024-04-16T17:12:58.513777",
     "exception": false,
     "start_time": "2024-04-16T17:12:58.478714",
     "status": "completed"
    },
    "tags": []
   },
   "outputs": [],
   "source": [
    "df['Date']=pd.to_datetime(df['Date'])\n",
    "df.set_index('Date',inplace=True)\n"
   ]
  },
  {
   "cell_type": "code",
   "execution_count": 9,
   "id": "7f3226be",
   "metadata": {
    "execution": {
     "iopub.execute_input": "2024-04-16T17:12:58.539976Z",
     "iopub.status.busy": "2024-04-16T17:12:58.539523Z",
     "iopub.status.idle": "2024-04-16T17:12:58.600373Z",
     "shell.execute_reply": "2024-04-16T17:12:58.598678Z"
    },
    "papermill": {
     "duration": 0.077912,
     "end_time": "2024-04-16T17:12:58.603446",
     "exception": false,
     "start_time": "2024-04-16T17:12:58.525534",
     "status": "completed"
    },
    "tags": []
   },
   "outputs": [
    {
     "data": {
      "text/html": [
       "<div>\n",
       "<style scoped>\n",
       "    .dataframe tbody tr th:only-of-type {\n",
       "        vertical-align: middle;\n",
       "    }\n",
       "\n",
       "    .dataframe tbody tr th {\n",
       "        vertical-align: top;\n",
       "    }\n",
       "\n",
       "    .dataframe thead th {\n",
       "        text-align: right;\n",
       "    }\n",
       "</style>\n",
       "<table border=\"1\" class=\"dataframe\">\n",
       "  <thead>\n",
       "    <tr style=\"text-align: right;\">\n",
       "      <th></th>\n",
       "      <th>Prev Close</th>\n",
       "      <th>Open</th>\n",
       "      <th>High</th>\n",
       "      <th>Low</th>\n",
       "      <th>Last</th>\n",
       "      <th>Close</th>\n",
       "      <th>VWAP</th>\n",
       "      <th>Volume</th>\n",
       "      <th>Trades</th>\n",
       "      <th>Deliverable Volume</th>\n",
       "      <th>%Deliverble</th>\n",
       "    </tr>\n",
       "  </thead>\n",
       "  <tbody>\n",
       "    <tr>\n",
       "      <th>count</th>\n",
       "      <td>3322.000000</td>\n",
       "      <td>3322.000000</td>\n",
       "      <td>3322.000000</td>\n",
       "      <td>3322.000000</td>\n",
       "      <td>3322.000000</td>\n",
       "      <td>3322.000000</td>\n",
       "      <td>3322.000000</td>\n",
       "      <td>3.322000e+03</td>\n",
       "      <td>2.456000e+03</td>\n",
       "      <td>3.322000e+03</td>\n",
       "      <td>3322.000000</td>\n",
       "    </tr>\n",
       "    <tr>\n",
       "      <th>mean</th>\n",
       "      <td>344.114314</td>\n",
       "      <td>344.763019</td>\n",
       "      <td>351.608007</td>\n",
       "      <td>337.531969</td>\n",
       "      <td>344.239539</td>\n",
       "      <td>344.201626</td>\n",
       "      <td>344.853182</td>\n",
       "      <td>2.954564e+06</td>\n",
       "      <td>4.492259e+04</td>\n",
       "      <td>1.207441e+06</td>\n",
       "      <td>0.445899</td>\n",
       "    </tr>\n",
       "    <tr>\n",
       "      <th>std</th>\n",
       "      <td>192.936882</td>\n",
       "      <td>193.619992</td>\n",
       "      <td>198.617808</td>\n",
       "      <td>188.676614</td>\n",
       "      <td>193.187813</td>\n",
       "      <td>193.045886</td>\n",
       "      <td>193.841305</td>\n",
       "      <td>4.104227e+06</td>\n",
       "      <td>5.023124e+04</td>\n",
       "      <td>1.398640e+06</td>\n",
       "      <td>0.160496</td>\n",
       "    </tr>\n",
       "    <tr>\n",
       "      <th>min</th>\n",
       "      <td>108.000000</td>\n",
       "      <td>108.000000</td>\n",
       "      <td>110.450000</td>\n",
       "      <td>105.650000</td>\n",
       "      <td>108.000000</td>\n",
       "      <td>108.000000</td>\n",
       "      <td>108.340000</td>\n",
       "      <td>1.236600e+04</td>\n",
       "      <td>3.660000e+02</td>\n",
       "      <td>5.383000e+03</td>\n",
       "      <td>0.067000</td>\n",
       "    </tr>\n",
       "    <tr>\n",
       "      <th>25%</th>\n",
       "      <td>164.312500</td>\n",
       "      <td>164.850000</td>\n",
       "      <td>168.000000</td>\n",
       "      <td>161.600000</td>\n",
       "      <td>164.075000</td>\n",
       "      <td>164.312500</td>\n",
       "      <td>164.855000</td>\n",
       "      <td>7.493682e+05</td>\n",
       "      <td>2.083200e+04</td>\n",
       "      <td>3.212005e+05</td>\n",
       "      <td>0.332900</td>\n",
       "    </tr>\n",
       "    <tr>\n",
       "      <th>50%</th>\n",
       "      <td>324.700000</td>\n",
       "      <td>325.750000</td>\n",
       "      <td>331.275000</td>\n",
       "      <td>319.850000</td>\n",
       "      <td>325.000000</td>\n",
       "      <td>324.700000</td>\n",
       "      <td>325.765000</td>\n",
       "      <td>2.007292e+06</td>\n",
       "      <td>3.588150e+04</td>\n",
       "      <td>8.132775e+05</td>\n",
       "      <td>0.445650</td>\n",
       "    </tr>\n",
       "    <tr>\n",
       "      <th>75%</th>\n",
       "      <td>400.912500</td>\n",
       "      <td>401.000000</td>\n",
       "      <td>407.187500</td>\n",
       "      <td>395.000000</td>\n",
       "      <td>400.912500</td>\n",
       "      <td>400.912500</td>\n",
       "      <td>400.607500</td>\n",
       "      <td>3.636883e+06</td>\n",
       "      <td>5.336875e+04</td>\n",
       "      <td>1.605528e+06</td>\n",
       "      <td>0.555850</td>\n",
       "    </tr>\n",
       "    <tr>\n",
       "      <th>max</th>\n",
       "      <td>1307.450000</td>\n",
       "      <td>1310.250000</td>\n",
       "      <td>1324.000000</td>\n",
       "      <td>1270.000000</td>\n",
       "      <td>1308.000000</td>\n",
       "      <td>1307.450000</td>\n",
       "      <td>1302.150000</td>\n",
       "      <td>9.771788e+07</td>\n",
       "      <td>1.205984e+06</td>\n",
       "      <td>2.241652e+07</td>\n",
       "      <td>0.979800</td>\n",
       "    </tr>\n",
       "  </tbody>\n",
       "</table>\n",
       "</div>"
      ],
      "text/plain": [
       "        Prev Close         Open         High          Low         Last  \\\n",
       "count  3322.000000  3322.000000  3322.000000  3322.000000  3322.000000   \n",
       "mean    344.114314   344.763019   351.608007   337.531969   344.239539   \n",
       "std     192.936882   193.619992   198.617808   188.676614   193.187813   \n",
       "min     108.000000   108.000000   110.450000   105.650000   108.000000   \n",
       "25%     164.312500   164.850000   168.000000   161.600000   164.075000   \n",
       "50%     324.700000   325.750000   331.275000   319.850000   325.000000   \n",
       "75%     400.912500   401.000000   407.187500   395.000000   400.912500   \n",
       "max    1307.450000  1310.250000  1324.000000  1270.000000  1308.000000   \n",
       "\n",
       "             Close         VWAP        Volume        Trades  \\\n",
       "count  3322.000000  3322.000000  3.322000e+03  2.456000e+03   \n",
       "mean    344.201626   344.853182  2.954564e+06  4.492259e+04   \n",
       "std     193.045886   193.841305  4.104227e+06  5.023124e+04   \n",
       "min     108.000000   108.340000  1.236600e+04  3.660000e+02   \n",
       "25%     164.312500   164.855000  7.493682e+05  2.083200e+04   \n",
       "50%     324.700000   325.765000  2.007292e+06  3.588150e+04   \n",
       "75%     400.912500   400.607500  3.636883e+06  5.336875e+04   \n",
       "max    1307.450000  1302.150000  9.771788e+07  1.205984e+06   \n",
       "\n",
       "       Deliverable Volume  %Deliverble  \n",
       "count        3.322000e+03  3322.000000  \n",
       "mean         1.207441e+06     0.445899  \n",
       "std          1.398640e+06     0.160496  \n",
       "min          5.383000e+03     0.067000  \n",
       "25%          3.212005e+05     0.332900  \n",
       "50%          8.132775e+05     0.445650  \n",
       "75%          1.605528e+06     0.555850  \n",
       "max          2.241652e+07     0.979800  "
      ]
     },
     "execution_count": 9,
     "metadata": {},
     "output_type": "execute_result"
    }
   ],
   "source": [
    "df.describe()\n"
   ]
  },
  {
   "cell_type": "markdown",
   "id": "65f11338",
   "metadata": {
    "papermill": {
     "duration": 0.012459,
     "end_time": "2024-04-16T17:12:58.628724",
     "exception": false,
     "start_time": "2024-04-16T17:12:58.616265",
     "status": "completed"
    },
    "tags": []
   },
   "source": [
    "# Visualize"
   ]
  },
  {
   "cell_type": "code",
   "execution_count": 10,
   "id": "38fc91e7",
   "metadata": {
    "execution": {
     "iopub.execute_input": "2024-04-16T17:12:58.658499Z",
     "iopub.status.busy": "2024-04-16T17:12:58.657998Z",
     "iopub.status.idle": "2024-04-16T17:13:01.830986Z",
     "shell.execute_reply": "2024-04-16T17:13:01.829285Z"
    },
    "papermill": {
     "duration": 3.191479,
     "end_time": "2024-04-16T17:13:01.834077",
     "exception": false,
     "start_time": "2024-04-16T17:12:58.642598",
     "status": "completed"
    },
    "tags": []
   },
   "outputs": [
    {
     "data": {
      "text/plain": [
       "<Axes: xlabel='Date'>"
      ]
     },
     "execution_count": 10,
     "metadata": {},
     "output_type": "execute_result"
    },
    {
     "data": {
      "image/png": "[encoded data removed]",
      "text/plain": [
       "<Figure size 640x480 with 1 Axes>"
      ]
     },
     "metadata": {},
     "output_type": "display_data"
    }
   ],
   "source": [
    "from statsmodels.tsa.stattools import adfuller\n",
    "df.plot()"
   ]
  },
  {
   "cell_type": "code",
   "execution_count": 11,
   "id": "8d9b316b",
   "metadata": {
    "execution": {
     "iopub.execute_input": "2024-04-16T17:13:01.863413Z",
     "iopub.status.busy": "2024-04-16T17:13:01.862661Z",
     "iopub.status.idle": "2024-04-16T17:13:02.232610Z",
     "shell.execute_reply": "2024-04-16T17:13:02.231197Z"
    },
    "papermill": {
     "duration": 0.388085,
     "end_time": "2024-04-16T17:13:02.235567",
     "exception": false,
     "start_time": "2024-04-16T17:13:01.847482",
     "status": "completed"
    },
    "tags": []
   },
   "outputs": [],
   "source": [
    "from statsmodels.tsa.arima.model import ARIMA\n",
    "import matplotlib.pyplot as plt\n"
   ]
  },
  {
   "cell_type": "code",
   "execution_count": 12,
   "id": "186283d3",
   "metadata": {
    "execution": {
     "iopub.execute_input": "2024-04-16T17:13:02.264851Z",
     "iopub.status.busy": "2024-04-16T17:13:02.263741Z",
     "iopub.status.idle": "2024-04-16T17:13:02.273548Z",
     "shell.execute_reply": "2024-04-16T17:13:02.272174Z"
    },
    "papermill": {
     "duration": 0.027792,
     "end_time": "2024-04-16T17:13:02.276518",
     "exception": false,
     "start_time": "2024-04-16T17:13:02.248726",
     "status": "completed"
    },
    "tags": []
   },
   "outputs": [],
   "source": [
    "df['Prediction'] = np.where(df['Close'] > df['Open'], 1, 0)\n"
   ]
  },
  {
   "cell_type": "code",
   "execution_count": 13,
   "id": "17b50a7f",
   "metadata": {
    "execution": {
     "iopub.execute_input": "2024-04-16T17:13:02.306575Z",
     "iopub.status.busy": "2024-04-16T17:13:02.305241Z",
     "iopub.status.idle": "2024-04-16T17:13:02.311568Z",
     "shell.execute_reply": "2024-04-16T17:13:02.310613Z"
    },
    "papermill": {
     "duration": 0.024121,
     "end_time": "2024-04-16T17:13:02.314122",
     "exception": false,
     "start_time": "2024-04-16T17:13:02.290001",
     "status": "completed"
    },
    "tags": []
   },
   "outputs": [],
   "source": [
    "train_size = int(len(df) * 0.8)\n",
    "train_data = df[:train_size]\n",
    "test_data = df[train_size:]"
   ]
  },
  {
   "cell_type": "code",
   "execution_count": 14,
   "id": "fc5c1c64",
   "metadata": {
    "execution": {
     "iopub.execute_input": "2024-04-16T17:13:02.343309Z",
     "iopub.status.busy": "2024-04-16T17:13:02.342807Z",
     "iopub.status.idle": "2024-04-16T17:13:02.377522Z",
     "shell.execute_reply": "2024-04-16T17:13:02.376127Z"
    },
    "papermill": {
     "duration": 0.052619,
     "end_time": "2024-04-16T17:13:02.380068",
     "exception": false,
     "start_time": "2024-04-16T17:13:02.327449",
     "status": "completed"
    },
    "tags": []
   },
   "outputs": [
    {
     "data": {
      "text/html": [
       "<div>\n",
       "<style scoped>\n",
       "    .dataframe tbody tr th:only-of-type {\n",
       "        vertical-align: middle;\n",
       "    }\n",
       "\n",
       "    .dataframe tbody tr th {\n",
       "        vertical-align: top;\n",
       "    }\n",
       "\n",
       "    .dataframe thead th {\n",
       "        text-align: right;\n",
       "    }\n",
       "</style>\n",
       "<table border=\"1\" class=\"dataframe\">\n",
       "  <thead>\n",
       "    <tr style=\"text-align: right;\">\n",
       "      <th></th>\n",
       "      <th>Prev Close</th>\n",
       "      <th>Open</th>\n",
       "      <th>High</th>\n",
       "      <th>Low</th>\n",
       "      <th>Last</th>\n",
       "      <th>Close</th>\n",
       "      <th>VWAP</th>\n",
       "      <th>Volume</th>\n",
       "      <th>Trades</th>\n",
       "      <th>Deliverable Volume</th>\n",
       "      <th>%Deliverble</th>\n",
       "      <th>Prediction</th>\n",
       "    </tr>\n",
       "    <tr>\n",
       "      <th>Date</th>\n",
       "      <th></th>\n",
       "      <th></th>\n",
       "      <th></th>\n",
       "      <th></th>\n",
       "      <th></th>\n",
       "      <th></th>\n",
       "      <th></th>\n",
       "      <th></th>\n",
       "      <th></th>\n",
       "      <th></th>\n",
       "      <th></th>\n",
       "      <th></th>\n",
       "    </tr>\n",
       "  </thead>\n",
       "  <tbody>\n",
       "    <tr>\n",
       "      <th>2007-11-27</th>\n",
       "      <td>440.00</td>\n",
       "      <td>770.00</td>\n",
       "      <td>1050.00</td>\n",
       "      <td>770.00</td>\n",
       "      <td>959.00</td>\n",
       "      <td>962.90</td>\n",
       "      <td>984.72</td>\n",
       "      <td>27294366</td>\n",
       "      <td>NaN</td>\n",
       "      <td>9859619</td>\n",
       "      <td>0.3612</td>\n",
       "      <td>1</td>\n",
       "    </tr>\n",
       "    <tr>\n",
       "      <th>2007-11-28</th>\n",
       "      <td>962.90</td>\n",
       "      <td>984.00</td>\n",
       "      <td>990.00</td>\n",
       "      <td>874.00</td>\n",
       "      <td>885.00</td>\n",
       "      <td>893.90</td>\n",
       "      <td>941.38</td>\n",
       "      <td>4581338</td>\n",
       "      <td>NaN</td>\n",
       "      <td>1453278</td>\n",
       "      <td>0.3172</td>\n",
       "      <td>0</td>\n",
       "    </tr>\n",
       "    <tr>\n",
       "      <th>2007-11-29</th>\n",
       "      <td>893.90</td>\n",
       "      <td>909.00</td>\n",
       "      <td>914.75</td>\n",
       "      <td>841.00</td>\n",
       "      <td>887.00</td>\n",
       "      <td>884.20</td>\n",
       "      <td>888.09</td>\n",
       "      <td>5124121</td>\n",
       "      <td>NaN</td>\n",
       "      <td>1069678</td>\n",
       "      <td>0.2088</td>\n",
       "      <td>0</td>\n",
       "    </tr>\n",
       "    <tr>\n",
       "      <th>2007-11-30</th>\n",
       "      <td>884.20</td>\n",
       "      <td>890.00</td>\n",
       "      <td>958.00</td>\n",
       "      <td>890.00</td>\n",
       "      <td>929.00</td>\n",
       "      <td>921.55</td>\n",
       "      <td>929.17</td>\n",
       "      <td>4609762</td>\n",
       "      <td>NaN</td>\n",
       "      <td>1260913</td>\n",
       "      <td>0.2735</td>\n",
       "      <td>1</td>\n",
       "    </tr>\n",
       "    <tr>\n",
       "      <th>2007-12-03</th>\n",
       "      <td>921.55</td>\n",
       "      <td>939.75</td>\n",
       "      <td>995.00</td>\n",
       "      <td>922.00</td>\n",
       "      <td>980.00</td>\n",
       "      <td>969.30</td>\n",
       "      <td>965.65</td>\n",
       "      <td>2977470</td>\n",
       "      <td>NaN</td>\n",
       "      <td>816123</td>\n",
       "      <td>0.2741</td>\n",
       "      <td>1</td>\n",
       "    </tr>\n",
       "    <tr>\n",
       "      <th>...</th>\n",
       "      <td>...</td>\n",
       "      <td>...</td>\n",
       "      <td>...</td>\n",
       "      <td>...</td>\n",
       "      <td>...</td>\n",
       "      <td>...</td>\n",
       "      <td>...</td>\n",
       "      <td>...</td>\n",
       "      <td>...</td>\n",
       "      <td>...</td>\n",
       "      <td>...</td>\n",
       "      <td>...</td>\n",
       "    </tr>\n",
       "    <tr>\n",
       "      <th>2018-08-10</th>\n",
       "      <td>378.00</td>\n",
       "      <td>377.30</td>\n",
       "      <td>382.10</td>\n",
       "      <td>376.00</td>\n",
       "      <td>378.55</td>\n",
       "      <td>379.30</td>\n",
       "      <td>379.05</td>\n",
       "      <td>1142258</td>\n",
       "      <td>15991.0</td>\n",
       "      <td>251976</td>\n",
       "      <td>0.2206</td>\n",
       "      <td>1</td>\n",
       "    </tr>\n",
       "    <tr>\n",
       "      <th>2018-08-13</th>\n",
       "      <td>379.30</td>\n",
       "      <td>378.00</td>\n",
       "      <td>379.60</td>\n",
       "      <td>374.65</td>\n",
       "      <td>377.55</td>\n",
       "      <td>377.15</td>\n",
       "      <td>377.11</td>\n",
       "      <td>1438549</td>\n",
       "      <td>36205.0</td>\n",
       "      <td>510193</td>\n",
       "      <td>0.3547</td>\n",
       "      <td>0</td>\n",
       "    </tr>\n",
       "    <tr>\n",
       "      <th>2018-08-14</th>\n",
       "      <td>377.15</td>\n",
       "      <td>377.55</td>\n",
       "      <td>378.70</td>\n",
       "      <td>371.00</td>\n",
       "      <td>372.35</td>\n",
       "      <td>373.15</td>\n",
       "      <td>373.90</td>\n",
       "      <td>1501909</td>\n",
       "      <td>43119.0</td>\n",
       "      <td>440128</td>\n",
       "      <td>0.2930</td>\n",
       "      <td>0</td>\n",
       "    </tr>\n",
       "    <tr>\n",
       "      <th>2018-08-16</th>\n",
       "      <td>373.15</td>\n",
       "      <td>372.00</td>\n",
       "      <td>374.10</td>\n",
       "      <td>367.30</td>\n",
       "      <td>370.05</td>\n",
       "      <td>370.30</td>\n",
       "      <td>370.57</td>\n",
       "      <td>2376448</td>\n",
       "      <td>48100.0</td>\n",
       "      <td>1412987</td>\n",
       "      <td>0.5946</td>\n",
       "      <td>0</td>\n",
       "    </tr>\n",
       "    <tr>\n",
       "      <th>2018-08-17</th>\n",
       "      <td>370.30</td>\n",
       "      <td>371.00</td>\n",
       "      <td>379.10</td>\n",
       "      <td>371.00</td>\n",
       "      <td>374.50</td>\n",
       "      <td>374.10</td>\n",
       "      <td>375.53</td>\n",
       "      <td>1983257</td>\n",
       "      <td>40106.0</td>\n",
       "      <td>686254</td>\n",
       "      <td>0.3460</td>\n",
       "      <td>1</td>\n",
       "    </tr>\n",
       "  </tbody>\n",
       "</table>\n",
       "<p>2657 rows × 12 columns</p>\n",
       "</div>"
      ],
      "text/plain": [
       "            Prev Close    Open     High     Low    Last   Close    VWAP  \\\n",
       "Date                                                                      \n",
       "2007-11-27      440.00  770.00  1050.00  770.00  959.00  962.90  984.72   \n",
       "2007-11-28      962.90  984.00   990.00  874.00  885.00  893.90  941.38   \n",
       "2007-11-29      893.90  909.00   914.75  841.00  887.00  884.20  888.09   \n",
       "2007-11-30      884.20  890.00   958.00  890.00  929.00  921.55  929.17   \n",
       "2007-12-03      921.55  939.75   995.00  922.00  980.00  969.30  965.65   \n",
       "...                ...     ...      ...     ...     ...     ...     ...   \n",
       "2018-08-10      378.00  377.30   382.10  376.00  378.55  379.30  379.05   \n",
       "2018-08-13      379.30  378.00   379.60  374.65  377.55  377.15  377.11   \n",
       "2018-08-14      377.15  377.55   378.70  371.00  372.35  373.15  373.90   \n",
       "2018-08-16      373.15  372.00   374.10  367.30  370.05  370.30  370.57   \n",
       "2018-08-17      370.30  371.00   379.10  371.00  374.50  374.10  375.53   \n",
       "\n",
       "              Volume   Trades  Deliverable Volume  %Deliverble  Prediction  \n",
       "Date                                                                        \n",
       "2007-11-27  27294366      NaN             9859619       0.3612           1  \n",
       "2007-11-28   4581338      NaN             1453278       0.3172           0  \n",
       "2007-11-29   5124121      NaN             1069678       0.2088           0  \n",
       "2007-11-30   4609762      NaN             1260913       0.2735           1  \n",
       "2007-12-03   2977470      NaN              816123       0.2741           1  \n",
       "...              ...      ...                 ...          ...         ...  \n",
       "2018-08-10   1142258  15991.0              251976       0.2206           1  \n",
       "2018-08-13   1438549  36205.0              510193       0.3547           0  \n",
       "2018-08-14   1501909  43119.0              440128       0.2930           0  \n",
       "2018-08-16   2376448  48100.0             1412987       0.5946           0  \n",
       "2018-08-17   1983257  40106.0              686254       0.3460           1  \n",
       "\n",
       "[2657 rows x 12 columns]"
      ]
     },
     "execution_count": 14,
     "metadata": {},
     "output_type": "execute_result"
    }
   ],
   "source": [
    "train_data"
   ]
  },
  {
   "cell_type": "code",
   "execution_count": 15,
   "id": "aa18ebd9",
   "metadata": {
    "execution": {
     "iopub.execute_input": "2024-04-16T17:13:02.409989Z",
     "iopub.status.busy": "2024-04-16T17:13:02.409525Z",
     "iopub.status.idle": "2024-04-16T17:13:03.451959Z",
     "shell.execute_reply": "2024-04-16T17:13:03.450226Z"
    },
    "papermill": {
     "duration": 1.065426,
     "end_time": "2024-04-16T17:13:03.459292",
     "exception": false,
     "start_time": "2024-04-16T17:13:02.393866",
     "status": "completed"
    },
    "tags": []
   },
   "outputs": [
    {
     "name": "stderr",
     "output_type": "stream",
     "text": [
      "/opt/conda/lib/python3.10/site-packages/statsmodels/tsa/base/tsa_model.py:473: ValueWarning: A date index has been provided, but it has no associated frequency information and so will be ignored when e.g. forecasting.\n",
      "  self._init_dates(dates, freq)\n",
      "/opt/conda/lib/python3.10/site-packages/statsmodels/tsa/base/tsa_model.py:473: ValueWarning: A date index has been provided, but it has no associated frequency information and so will be ignored when e.g. forecasting.\n",
      "  self._init_dates(dates, freq)\n",
      "/opt/conda/lib/python3.10/site-packages/statsmodels/tsa/base/tsa_model.py:473: ValueWarning: A date index has been provided, but it has no associated frequency information and so will be ignored when e.g. forecasting.\n",
      "  self._init_dates(dates, freq)\n",
      "/opt/conda/lib/python3.10/site-packages/statsmodels/tsa/base/tsa_model.py:836: ValueWarning: No supported index is available. Prediction results will be given with an integer index beginning at `start`.\n",
      "  return get_prediction_index(\n",
      "/opt/conda/lib/python3.10/site-packages/statsmodels/tsa/base/tsa_model.py:836: FutureWarning: No supported index is available. In the next version, calling this method in a model without a supported index will result in an exception.\n",
      "  return get_prediction_index(\n"
     ]
    }
   ],
   "source": [
    "arima_order = (5, 1, 0)  # Example order, you may adjust this\n",
    "arima_model = ARIMA(train_data['Prediction'], order=arima_order)\n",
    "arima_model_fit = arima_model.fit()\n",
    "arima_forecast = arima_model_fit.forecast(steps=len(test_data))"
   ]
  },
  {
   "cell_type": "code",
   "execution_count": 16,
   "id": "4448a238",
   "metadata": {
    "execution": {
     "iopub.execute_input": "2024-04-16T17:13:03.493672Z",
     "iopub.status.busy": "2024-04-16T17:13:03.492642Z",
     "iopub.status.idle": "2024-04-16T17:13:03.501201Z",
     "shell.execute_reply": "2024-04-16T17:13:03.499612Z"
    },
    "papermill": {
     "duration": 0.02755,
     "end_time": "2024-04-16T17:13:03.503858",
     "exception": false,
     "start_time": "2024-04-16T17:13:03.476308",
     "status": "completed"
    },
    "tags": []
   },
   "outputs": [
    {
     "data": {
      "text/plain": [
       "Index(['Prev Close', 'Open', 'High', 'Low', 'Last', 'Close', 'VWAP', 'Volume',\n",
       "       'Trades', 'Deliverable Volume', '%Deliverble', 'Prediction'],\n",
       "      dtype='object')"
      ]
     },
     "execution_count": 16,
     "metadata": {},
     "output_type": "execute_result"
    }
   ],
   "source": [
    "df.columns"
   ]
  },
  {
   "cell_type": "code",
   "execution_count": 17,
   "id": "8ca71bcc",
   "metadata": {
    "execution": {
     "iopub.execute_input": "2024-04-16T17:13:03.535320Z",
     "iopub.status.busy": "2024-04-16T17:13:03.534494Z",
     "iopub.status.idle": "2024-04-16T17:13:03.543389Z",
     "shell.execute_reply": "2024-04-16T17:13:03.542429Z"
    },
    "papermill": {
     "duration": 0.028162,
     "end_time": "2024-04-16T17:13:03.546024",
     "exception": false,
     "start_time": "2024-04-16T17:13:03.517862",
     "status": "completed"
    },
    "tags": []
   },
   "outputs": [],
   "source": [
    "cols=['Prev Close', 'Open', 'High', 'Low', 'Last', 'Close', 'VWAP', 'Volume',\n",
    "       'Trades', 'Deliverable Volume', '%Deliverble']\n",
    "train_features = train_data[cols]\n",
    "train_target = train_data['Prediction']\n",
    "test_features = test_data[cols]\n",
    "test_target = test_data['Prediction']"
   ]
  },
  {
   "cell_type": "code",
   "execution_count": 18,
   "id": "1bb07ccb",
   "metadata": {
    "execution": {
     "iopub.execute_input": "2024-04-16T17:13:03.576296Z",
     "iopub.status.busy": "2024-04-16T17:13:03.575825Z",
     "iopub.status.idle": "2024-04-16T17:13:04.281232Z",
     "shell.execute_reply": "2024-04-16T17:13:04.279688Z"
    },
    "papermill": {
     "duration": 0.724374,
     "end_time": "2024-04-16T17:13:04.284519",
     "exception": false,
     "start_time": "2024-04-16T17:13:03.560145",
     "status": "completed"
    },
    "tags": []
   },
   "outputs": [],
   "source": [
    "from statsmodels.tsa.arima.model import ARIMA\n",
    "from sklearn.ensemble import RandomForestRegressor\n",
    "from sklearn.ensemble import RandomForestClassifier\n",
    "from sklearn.metrics import mean_squared_error\n",
    "import matplotlib.pyplot as plt\n",
    "from sklearn.metrics import accuracy_score, mean_squared_error\n",
    "from statsmodels.tsa.statespace.sarimax import SARIMAX\n"
   ]
  },
  {
   "cell_type": "code",
   "execution_count": 19,
   "id": "ffa70e94",
   "metadata": {
    "execution": {
     "iopub.execute_input": "2024-04-16T17:13:04.316191Z",
     "iopub.status.busy": "2024-04-16T17:13:04.315713Z",
     "iopub.status.idle": "2024-04-16T17:13:04.330250Z",
     "shell.execute_reply": "2024-04-16T17:13:04.328568Z"
    },
    "papermill": {
     "duration": 0.034721,
     "end_time": "2024-04-16T17:13:04.333401",
     "exception": false,
     "start_time": "2024-04-16T17:13:04.298680",
     "status": "completed"
    },
    "tags": []
   },
   "outputs": [],
   "source": [
    "df.fillna(df.mean(),inplace=True)"
   ]
  },
  {
   "cell_type": "code",
   "execution_count": 20,
   "id": "224ec36e",
   "metadata": {
    "execution": {
     "iopub.execute_input": "2024-04-16T17:13:04.364288Z",
     "iopub.status.busy": "2024-04-16T17:13:04.363803Z",
     "iopub.status.idle": "2024-04-16T17:13:05.378170Z",
     "shell.execute_reply": "2024-04-16T17:13:05.376433Z"
    },
    "papermill": {
     "duration": 1.035034,
     "end_time": "2024-04-16T17:13:05.382596",
     "exception": false,
     "start_time": "2024-04-16T17:13:04.347562",
     "status": "completed"
    },
    "tags": []
   },
   "outputs": [
    {
     "name": "stderr",
     "output_type": "stream",
     "text": [
      "/opt/conda/lib/python3.10/site-packages/statsmodels/tsa/base/tsa_model.py:473: ValueWarning: A date index has been provided, but it has no associated frequency information and so will be ignored when e.g. forecasting.\n",
      "  self._init_dates(dates, freq)\n",
      "/opt/conda/lib/python3.10/site-packages/statsmodels/tsa/base/tsa_model.py:473: ValueWarning: A date index has been provided, but it has no associated frequency information and so will be ignored when e.g. forecasting.\n",
      "  self._init_dates(dates, freq)\n",
      "/opt/conda/lib/python3.10/site-packages/statsmodels/tsa/base/tsa_model.py:473: ValueWarning: A date index has been provided, but it has no associated frequency information and so will be ignored when e.g. forecasting.\n",
      "  self._init_dates(dates, freq)\n",
      "/opt/conda/lib/python3.10/site-packages/statsmodels/tsa/base/tsa_model.py:836: ValueWarning: No supported index is available. Prediction results will be given with an integer index beginning at `start`.\n",
      "  return get_prediction_index(\n",
      "/opt/conda/lib/python3.10/site-packages/statsmodels/tsa/base/tsa_model.py:836: FutureWarning: No supported index is available. In the next version, calling this method in a model without a supported index will result in an exception.\n",
      "  return get_prediction_index(\n"
     ]
    }
   ],
   "source": [
    "# Create and fit ARIMA model\n",
    "arima_order = (5, 1, 0)  # Example order, you may adjust this\n",
    "arima_model = ARIMA(train_data['Prediction'], order=arima_order)\n",
    "arima_model_fit = arima_model.fit()\n",
    "\n",
    "# Forecast using ARIMA model\n",
    "arima_forecast = arima_model_fit.forecast(steps=len(test_data))\n"
   ]
  },
  {
   "cell_type": "code",
   "execution_count": 21,
   "id": "5a99a003",
   "metadata": {
    "execution": {
     "iopub.execute_input": "2024-04-16T17:13:05.420633Z",
     "iopub.status.busy": "2024-04-16T17:13:05.419657Z",
     "iopub.status.idle": "2024-04-16T17:13:30.832208Z",
     "shell.execute_reply": "2024-04-16T17:13:30.828756Z"
    },
    "papermill": {
     "duration": 25.432502,
     "end_time": "2024-04-16T17:13:30.835631",
     "exception": false,
     "start_time": "2024-04-16T17:13:05.403129",
     "status": "completed"
    },
    "tags": []
   },
   "outputs": [
    {
     "name": "stderr",
     "output_type": "stream",
     "text": [
      "/opt/conda/lib/python3.10/site-packages/statsmodels/tsa/base/tsa_model.py:473: ValueWarning: A date index has been provided, but it has no associated frequency information and so will be ignored when e.g. forecasting.\n",
      "  self._init_dates(dates, freq)\n",
      "/opt/conda/lib/python3.10/site-packages/statsmodels/tsa/base/tsa_model.py:473: ValueWarning: A date index has been provided, but it has no associated frequency information and so will be ignored when e.g. forecasting.\n",
      "  self._init_dates(dates, freq)\n",
      " This problem is unconstrained.\n"
     ]
    },
    {
     "name": "stdout",
     "output_type": "stream",
     "text": [
      "RUNNING THE L-BFGS-B CODE\n",
      "\n",
      "           * * *\n",
      "\n",
      "Machine precision = 2.220D-16\n",
      " N =            5     M =           10\n",
      "\n",
      "At X0         0 variables are exactly at the bounds\n",
      "\n",
      "At iterate    0    f=  9.76974D-01    |proj g|=  4.84616D-01\n",
      "\n",
      "At iterate    5    f=  8.53373D-01    |proj g|=  1.16853D-01\n",
      "\n",
      "At iterate   10    f=  7.48391D-01    |proj g|=  3.20705D-02\n",
      "\n",
      "At iterate   15    f=  7.36563D-01    |proj g|=  1.33987D-02\n",
      "\n",
      "At iterate   20    f=  7.34272D-01    |proj g|=  2.36377D-03\n",
      "\n",
      "At iterate   25    f=  7.34148D-01    |proj g|=  1.33319D-03\n",
      "\n",
      "At iterate   30    f=  7.34141D-01    |proj g|=  1.22002D-03\n",
      "\n",
      "           * * *\n",
      "\n",
      "Tit   = total number of iterations\n",
      "Tnf   = total number of function evaluations\n",
      "Tnint = total number of segments explored during Cauchy searches\n",
      "Skip  = number of BFGS updates skipped\n",
      "Nact  = number of active bounds at final generalized Cauchy point\n",
      "Projg = norm of the final projected gradient\n",
      "F     = final function value\n",
      "\n",
      "           * * *\n",
      "\n",
      "   N    Tit     Tnf  Tnint  Skip  Nact     Projg        F\n",
      "    5     30     46      1     0     0   1.220D-03   7.341D-01\n",
      "  F =  0.73414135191213614     \n",
      "\n",
      "CONVERGENCE: REL_REDUCTION_OF_F_<=_FACTR*EPSMCH             \n"
     ]
    },
    {
     "name": "stderr",
     "output_type": "stream",
     "text": [
      "/opt/conda/lib/python3.10/site-packages/statsmodels/tsa/base/tsa_model.py:836: ValueWarning: No supported index is available. Prediction results will be given with an integer index beginning at `start`.\n",
      "  return get_prediction_index(\n",
      "/opt/conda/lib/python3.10/site-packages/statsmodels/tsa/base/tsa_model.py:836: FutureWarning: No supported index is available. In the next version, calling this method in a model without a supported index will result in an exception.\n",
      "  return get_prediction_index(\n"
     ]
    }
   ],
   "source": [
    "# Create and fit SARIMA model\n",
    "sarima_order = (1, 1, 1)  # Example order, you may adjust this\n",
    "sarima_seasonal_order = (1, 1, 1, 12)  # Example seasonal order, you may adjust this\n",
    "sarima_model = SARIMAX(train_data['Prediction'], order=sarima_order, seasonal_order=sarima_seasonal_order)\n",
    "sarima_model_fit = sarima_model.fit()\n",
    "\n",
    "# Forecast using SARIMA model\n",
    "sarima_forecast = sarima_model_fit.forecast(steps=len(test_data))\n"
   ]
  },
  {
   "cell_type": "code",
   "execution_count": 22,
   "id": "c6687014",
   "metadata": {
    "execution": {
     "iopub.execute_input": "2024-04-16T17:13:30.873141Z",
     "iopub.status.busy": "2024-04-16T17:13:30.871440Z",
     "iopub.status.idle": "2024-04-16T17:13:31.503993Z",
     "shell.execute_reply": "2024-04-16T17:13:31.502464Z"
    },
    "papermill": {
     "duration": 0.654573,
     "end_time": "2024-04-16T17:13:31.506787",
     "exception": false,
     "start_time": "2024-04-16T17:13:30.852214",
     "status": "completed"
    },
    "tags": []
   },
   "outputs": [
    {
     "data": {
      "image/png": "[encoded data removed]",
      "text/plain": [
       "<Figure size 1000x600 with 1 Axes>"
      ]
     },
     "metadata": {},
     "output_type": "display_data"
    }
   ],
   "source": [
    "# Plotting results\n",
    "plt.figure(figsize=(10, 6))\n",
    "plt.plot(df.index[train_size:], test_data, label='Actual')\n",
    "plt.plot(df.index[train_size:], arima_forecast, label='ARIMA Forecast')\n",
    "plt.plot(df.index[train_size:], sarima_forecast, label='SARIMA Forecast')\n",
    "plt.xlabel('Date')\n",
    "plt.ylabel('Stock Price')\n",
    "plt.legend()\n",
    "plt.title('Stock Price Prediction using ARIMA and SARIMA')\n",
    "plt.show()\n"
   ]
  },
  {
   "cell_type": "code",
   "execution_count": 23,
   "id": "a9a9a145",
   "metadata": {
    "execution": {
     "iopub.execute_input": "2024-04-16T17:13:31.543827Z",
     "iopub.status.busy": "2024-04-16T17:13:31.542885Z",
     "iopub.status.idle": "2024-04-16T17:13:32.809377Z",
     "shell.execute_reply": "2024-04-16T17:13:32.807806Z"
    },
    "papermill": {
     "duration": 1.288863,
     "end_time": "2024-04-16T17:13:32.812524",
     "exception": true,
     "start_time": "2024-04-16T17:13:31.523661",
     "status": "failed"
    },
    "tags": []
   },
   "outputs": [
    {
     "ename": "ValueError",
     "evalue": "Input X contains NaN.\nRandomForestRegressor does not accept missing values encoded as NaN natively. For supervised learning, you might want to consider sklearn.ensemble.HistGradientBoostingClassifier and Regressor which accept missing values encoded as NaNs natively. Alternatively, it is possible to preprocess the data, for instance by using an imputer transformer in a pipeline or drop samples with missing values. See https://scikit-learn.org/stable/modules/impute.html You can find a list of all estimators that handle NaN values at the following page: https://scikit-learn.org/stable/modules/impute.html#estimators-that-handle-nan-values",
     "output_type": "error",
     "traceback": [
      "\u001b[0;31m---------------------------------------------------------------------------\u001b[0m",
      "\u001b[0;31mValueError\u001b[0m                                Traceback (most recent call last)",
      "Cell \u001b[0;32mIn[23], line 2\u001b[0m\n\u001b[1;32m      1\u001b[0m rf_regressor \u001b[38;5;241m=\u001b[39m RandomForestRegressor(n_estimators\u001b[38;5;241m=\u001b[39m\u001b[38;5;241m100\u001b[39m, random_state\u001b[38;5;241m=\u001b[39m\u001b[38;5;241m42\u001b[39m)\n\u001b[0;32m----> 2\u001b[0m \u001b[43mrf_regressor\u001b[49m\u001b[38;5;241;43m.\u001b[39;49m\u001b[43mfit\u001b[49m\u001b[43m(\u001b[49m\u001b[43mtrain_features\u001b[49m\u001b[43m,\u001b[49m\u001b[43m \u001b[49m\u001b[43mtrain_target\u001b[49m\u001b[43m)\u001b[49m\n\u001b[1;32m      3\u001b[0m rf_predictions \u001b[38;5;241m=\u001b[39m rf_regressor\u001b[38;5;241m.\u001b[39mpredict(test_features)\n\u001b[1;32m      5\u001b[0m \u001b[38;5;66;03m# Calculate accuracy score and RMSE\u001b[39;00m\n",
      "File \u001b[0;32m/opt/conda/lib/python3.10/site-packages/sklearn/ensemble/_forest.py:345\u001b[0m, in \u001b[0;36mBaseForest.fit\u001b[0;34m(self, X, y, sample_weight)\u001b[0m\n\u001b[1;32m    343\u001b[0m \u001b[38;5;28;01mif\u001b[39;00m issparse(y):\n\u001b[1;32m    344\u001b[0m     \u001b[38;5;28;01mraise\u001b[39;00m \u001b[38;5;167;01mValueError\u001b[39;00m(\u001b[38;5;124m\"\u001b[39m\u001b[38;5;124msparse multilabel-indicator for y is not supported.\u001b[39m\u001b[38;5;124m\"\u001b[39m)\n\u001b[0;32m--> 345\u001b[0m X, y \u001b[38;5;241m=\u001b[39m \u001b[38;5;28;43mself\u001b[39;49m\u001b[38;5;241;43m.\u001b[39;49m\u001b[43m_validate_data\u001b[49m\u001b[43m(\u001b[49m\n\u001b[1;32m    346\u001b[0m \u001b[43m    \u001b[49m\u001b[43mX\u001b[49m\u001b[43m,\u001b[49m\u001b[43m \u001b[49m\u001b[43my\u001b[49m\u001b[43m,\u001b[49m\u001b[43m \u001b[49m\u001b[43mmulti_output\u001b[49m\u001b[38;5;241;43m=\u001b[39;49m\u001b[38;5;28;43;01mTrue\u001b[39;49;00m\u001b[43m,\u001b[49m\u001b[43m \u001b[49m\u001b[43maccept_sparse\u001b[49m\u001b[38;5;241;43m=\u001b[39;49m\u001b[38;5;124;43m\"\u001b[39;49m\u001b[38;5;124;43mcsc\u001b[39;49m\u001b[38;5;124;43m\"\u001b[39;49m\u001b[43m,\u001b[49m\u001b[43m \u001b[49m\u001b[43mdtype\u001b[49m\u001b[38;5;241;43m=\u001b[39;49m\u001b[43mDTYPE\u001b[49m\n\u001b[1;32m    347\u001b[0m \u001b[43m\u001b[49m\u001b[43m)\u001b[49m\n\u001b[1;32m    348\u001b[0m \u001b[38;5;28;01mif\u001b[39;00m sample_weight \u001b[38;5;129;01mis\u001b[39;00m \u001b[38;5;129;01mnot\u001b[39;00m \u001b[38;5;28;01mNone\u001b[39;00m:\n\u001b[1;32m    349\u001b[0m     sample_weight \u001b[38;5;241m=\u001b[39m _check_sample_weight(sample_weight, X)\n",
      "File \u001b[0;32m/opt/conda/lib/python3.10/site-packages/sklearn/base.py:584\u001b[0m, in \u001b[0;36mBaseEstimator._validate_data\u001b[0;34m(self, X, y, reset, validate_separately, **check_params)\u001b[0m\n\u001b[1;32m    582\u001b[0m         y \u001b[38;5;241m=\u001b[39m check_array(y, input_name\u001b[38;5;241m=\u001b[39m\u001b[38;5;124m\"\u001b[39m\u001b[38;5;124my\u001b[39m\u001b[38;5;124m\"\u001b[39m, \u001b[38;5;241m*\u001b[39m\u001b[38;5;241m*\u001b[39mcheck_y_params)\n\u001b[1;32m    583\u001b[0m     \u001b[38;5;28;01melse\u001b[39;00m:\n\u001b[0;32m--> 584\u001b[0m         X, y \u001b[38;5;241m=\u001b[39m \u001b[43mcheck_X_y\u001b[49m\u001b[43m(\u001b[49m\u001b[43mX\u001b[49m\u001b[43m,\u001b[49m\u001b[43m \u001b[49m\u001b[43my\u001b[49m\u001b[43m,\u001b[49m\u001b[43m \u001b[49m\u001b[38;5;241;43m*\u001b[39;49m\u001b[38;5;241;43m*\u001b[39;49m\u001b[43mcheck_params\u001b[49m\u001b[43m)\u001b[49m\n\u001b[1;32m    585\u001b[0m     out \u001b[38;5;241m=\u001b[39m X, y\n\u001b[1;32m    587\u001b[0m \u001b[38;5;28;01mif\u001b[39;00m \u001b[38;5;129;01mnot\u001b[39;00m no_val_X \u001b[38;5;129;01mand\u001b[39;00m check_params\u001b[38;5;241m.\u001b[39mget(\u001b[38;5;124m\"\u001b[39m\u001b[38;5;124mensure_2d\u001b[39m\u001b[38;5;124m\"\u001b[39m, \u001b[38;5;28;01mTrue\u001b[39;00m):\n",
      "File \u001b[0;32m/opt/conda/lib/python3.10/site-packages/sklearn/utils/validation.py:1106\u001b[0m, in \u001b[0;36mcheck_X_y\u001b[0;34m(X, y, accept_sparse, accept_large_sparse, dtype, order, copy, force_all_finite, ensure_2d, allow_nd, multi_output, ensure_min_samples, ensure_min_features, y_numeric, estimator)\u001b[0m\n\u001b[1;32m   1101\u001b[0m         estimator_name \u001b[38;5;241m=\u001b[39m _check_estimator_name(estimator)\n\u001b[1;32m   1102\u001b[0m     \u001b[38;5;28;01mraise\u001b[39;00m \u001b[38;5;167;01mValueError\u001b[39;00m(\n\u001b[1;32m   1103\u001b[0m         \u001b[38;5;124mf\u001b[39m\u001b[38;5;124m\"\u001b[39m\u001b[38;5;132;01m{\u001b[39;00mestimator_name\u001b[38;5;132;01m}\u001b[39;00m\u001b[38;5;124m requires y to be passed, but the target y is None\u001b[39m\u001b[38;5;124m\"\u001b[39m\n\u001b[1;32m   1104\u001b[0m     )\n\u001b[0;32m-> 1106\u001b[0m X \u001b[38;5;241m=\u001b[39m \u001b[43mcheck_array\u001b[49m\u001b[43m(\u001b[49m\n\u001b[1;32m   1107\u001b[0m \u001b[43m    \u001b[49m\u001b[43mX\u001b[49m\u001b[43m,\u001b[49m\n\u001b[1;32m   1108\u001b[0m \u001b[43m    \u001b[49m\u001b[43maccept_sparse\u001b[49m\u001b[38;5;241;43m=\u001b[39;49m\u001b[43maccept_sparse\u001b[49m\u001b[43m,\u001b[49m\n\u001b[1;32m   1109\u001b[0m \u001b[43m    \u001b[49m\u001b[43maccept_large_sparse\u001b[49m\u001b[38;5;241;43m=\u001b[39;49m\u001b[43maccept_large_sparse\u001b[49m\u001b[43m,\u001b[49m\n\u001b[1;32m   1110\u001b[0m \u001b[43m    \u001b[49m\u001b[43mdtype\u001b[49m\u001b[38;5;241;43m=\u001b[39;49m\u001b[43mdtype\u001b[49m\u001b[43m,\u001b[49m\n\u001b[1;32m   1111\u001b[0m \u001b[43m    \u001b[49m\u001b[43morder\u001b[49m\u001b[38;5;241;43m=\u001b[39;49m\u001b[43morder\u001b[49m\u001b[43m,\u001b[49m\n\u001b[1;32m   1112\u001b[0m \u001b[43m    \u001b[49m\u001b[43mcopy\u001b[49m\u001b[38;5;241;43m=\u001b[39;49m\u001b[43mcopy\u001b[49m\u001b[43m,\u001b[49m\n\u001b[1;32m   1113\u001b[0m \u001b[43m    \u001b[49m\u001b[43mforce_all_finite\u001b[49m\u001b[38;5;241;43m=\u001b[39;49m\u001b[43mforce_all_finite\u001b[49m\u001b[43m,\u001b[49m\n\u001b[1;32m   1114\u001b[0m \u001b[43m    \u001b[49m\u001b[43mensure_2d\u001b[49m\u001b[38;5;241;43m=\u001b[39;49m\u001b[43mensure_2d\u001b[49m\u001b[43m,\u001b[49m\n\u001b[1;32m   1115\u001b[0m \u001b[43m    \u001b[49m\u001b[43mallow_nd\u001b[49m\u001b[38;5;241;43m=\u001b[39;49m\u001b[43mallow_nd\u001b[49m\u001b[43m,\u001b[49m\n\u001b[1;32m   1116\u001b[0m \u001b[43m    \u001b[49m\u001b[43mensure_min_samples\u001b[49m\u001b[38;5;241;43m=\u001b[39;49m\u001b[43mensure_min_samples\u001b[49m\u001b[43m,\u001b[49m\n\u001b[1;32m   1117\u001b[0m \u001b[43m    \u001b[49m\u001b[43mensure_min_features\u001b[49m\u001b[38;5;241;43m=\u001b[39;49m\u001b[43mensure_min_features\u001b[49m\u001b[43m,\u001b[49m\n\u001b[1;32m   1118\u001b[0m \u001b[43m    \u001b[49m\u001b[43mestimator\u001b[49m\u001b[38;5;241;43m=\u001b[39;49m\u001b[43mestimator\u001b[49m\u001b[43m,\u001b[49m\n\u001b[1;32m   1119\u001b[0m \u001b[43m    \u001b[49m\u001b[43minput_name\u001b[49m\u001b[38;5;241;43m=\u001b[39;49m\u001b[38;5;124;43m\"\u001b[39;49m\u001b[38;5;124;43mX\u001b[39;49m\u001b[38;5;124;43m\"\u001b[39;49m\u001b[43m,\u001b[49m\n\u001b[1;32m   1120\u001b[0m \u001b[43m\u001b[49m\u001b[43m)\u001b[49m\n\u001b[1;32m   1122\u001b[0m y \u001b[38;5;241m=\u001b[39m _check_y(y, multi_output\u001b[38;5;241m=\u001b[39mmulti_output, y_numeric\u001b[38;5;241m=\u001b[39my_numeric, estimator\u001b[38;5;241m=\u001b[39mestimator)\n\u001b[1;32m   1124\u001b[0m check_consistent_length(X, y)\n",
      "File \u001b[0;32m/opt/conda/lib/python3.10/site-packages/sklearn/utils/validation.py:921\u001b[0m, in \u001b[0;36mcheck_array\u001b[0;34m(array, accept_sparse, accept_large_sparse, dtype, order, copy, force_all_finite, ensure_2d, allow_nd, ensure_min_samples, ensure_min_features, estimator, input_name)\u001b[0m\n\u001b[1;32m    915\u001b[0m         \u001b[38;5;28;01mraise\u001b[39;00m \u001b[38;5;167;01mValueError\u001b[39;00m(\n\u001b[1;32m    916\u001b[0m             \u001b[38;5;124m\"\u001b[39m\u001b[38;5;124mFound array with dim \u001b[39m\u001b[38;5;132;01m%d\u001b[39;00m\u001b[38;5;124m. \u001b[39m\u001b[38;5;132;01m%s\u001b[39;00m\u001b[38;5;124m expected <= 2.\u001b[39m\u001b[38;5;124m\"\u001b[39m\n\u001b[1;32m    917\u001b[0m             \u001b[38;5;241m%\u001b[39m (array\u001b[38;5;241m.\u001b[39mndim, estimator_name)\n\u001b[1;32m    918\u001b[0m         )\n\u001b[1;32m    920\u001b[0m     \u001b[38;5;28;01mif\u001b[39;00m force_all_finite:\n\u001b[0;32m--> 921\u001b[0m         \u001b[43m_assert_all_finite\u001b[49m\u001b[43m(\u001b[49m\n\u001b[1;32m    922\u001b[0m \u001b[43m            \u001b[49m\u001b[43marray\u001b[49m\u001b[43m,\u001b[49m\n\u001b[1;32m    923\u001b[0m \u001b[43m            \u001b[49m\u001b[43minput_name\u001b[49m\u001b[38;5;241;43m=\u001b[39;49m\u001b[43minput_name\u001b[49m\u001b[43m,\u001b[49m\n\u001b[1;32m    924\u001b[0m \u001b[43m            \u001b[49m\u001b[43mestimator_name\u001b[49m\u001b[38;5;241;43m=\u001b[39;49m\u001b[43mestimator_name\u001b[49m\u001b[43m,\u001b[49m\n\u001b[1;32m    925\u001b[0m \u001b[43m            \u001b[49m\u001b[43mallow_nan\u001b[49m\u001b[38;5;241;43m=\u001b[39;49m\u001b[43mforce_all_finite\u001b[49m\u001b[43m \u001b[49m\u001b[38;5;241;43m==\u001b[39;49m\u001b[43m \u001b[49m\u001b[38;5;124;43m\"\u001b[39;49m\u001b[38;5;124;43mallow-nan\u001b[39;49m\u001b[38;5;124;43m\"\u001b[39;49m\u001b[43m,\u001b[49m\n\u001b[1;32m    926\u001b[0m \u001b[43m        \u001b[49m\u001b[43m)\u001b[49m\n\u001b[1;32m    928\u001b[0m \u001b[38;5;28;01mif\u001b[39;00m ensure_min_samples \u001b[38;5;241m>\u001b[39m \u001b[38;5;241m0\u001b[39m:\n\u001b[1;32m    929\u001b[0m     n_samples \u001b[38;5;241m=\u001b[39m _num_samples(array)\n",
      "File \u001b[0;32m/opt/conda/lib/python3.10/site-packages/sklearn/utils/validation.py:161\u001b[0m, in \u001b[0;36m_assert_all_finite\u001b[0;34m(X, allow_nan, msg_dtype, estimator_name, input_name)\u001b[0m\n\u001b[1;32m    144\u001b[0m \u001b[38;5;28;01mif\u001b[39;00m estimator_name \u001b[38;5;129;01mand\u001b[39;00m input_name \u001b[38;5;241m==\u001b[39m \u001b[38;5;124m\"\u001b[39m\u001b[38;5;124mX\u001b[39m\u001b[38;5;124m\"\u001b[39m \u001b[38;5;129;01mand\u001b[39;00m has_nan_error:\n\u001b[1;32m    145\u001b[0m     \u001b[38;5;66;03m# Improve the error message on how to handle missing values in\u001b[39;00m\n\u001b[1;32m    146\u001b[0m     \u001b[38;5;66;03m# scikit-learn.\u001b[39;00m\n\u001b[1;32m    147\u001b[0m     msg_err \u001b[38;5;241m+\u001b[39m\u001b[38;5;241m=\u001b[39m (\n\u001b[1;32m    148\u001b[0m         \u001b[38;5;124mf\u001b[39m\u001b[38;5;124m\"\u001b[39m\u001b[38;5;130;01m\\n\u001b[39;00m\u001b[38;5;132;01m{\u001b[39;00mestimator_name\u001b[38;5;132;01m}\u001b[39;00m\u001b[38;5;124m does not accept missing values\u001b[39m\u001b[38;5;124m\"\u001b[39m\n\u001b[1;32m    149\u001b[0m         \u001b[38;5;124m\"\u001b[39m\u001b[38;5;124m encoded as NaN natively. For supervised learning, you might want\u001b[39m\u001b[38;5;124m\"\u001b[39m\n\u001b[0;32m   (...)\u001b[0m\n\u001b[1;32m    159\u001b[0m         \u001b[38;5;124m\"\u001b[39m\u001b[38;5;124m#estimators-that-handle-nan-values\u001b[39m\u001b[38;5;124m\"\u001b[39m\n\u001b[1;32m    160\u001b[0m     )\n\u001b[0;32m--> 161\u001b[0m \u001b[38;5;28;01mraise\u001b[39;00m \u001b[38;5;167;01mValueError\u001b[39;00m(msg_err)\n",
      "\u001b[0;31mValueError\u001b[0m: Input X contains NaN.\nRandomForestRegressor does not accept missing values encoded as NaN natively. For supervised learning, you might want to consider sklearn.ensemble.HistGradientBoostingClassifier and Regressor which accept missing values encoded as NaNs natively. Alternatively, it is possible to preprocess the data, for instance by using an imputer transformer in a pipeline or drop samples with missing values. See https://scikit-learn.org/stable/modules/impute.html You can find a list of all estimators that handle NaN values at the following page: https://scikit-learn.org/stable/modules/impute.html#estimators-that-handle-nan-values"
     ]
    }
   ],
   "source": [
    "rf_regressor = RandomForestRegressor(n_estimators=100, random_state=42)\n",
    "rf_regressor.fit(train_features, train_target)\n",
    "rf_predictions = rf_regressor.predict(test_features)\n",
    "\n",
    "# Calculate accuracy score and RMSE\n",
    "accuracy = accuracy_score(test_target, rf_predictions.round())\n",
    "mse_rf = mean_squared_error(test_target, rf_predictions, squared=False)\n",
    "\n",
    "# Print accuracy score and RMSE\n",
    "print(f'Accuracy: {accuracy:.2f}')\n",
    "print(f'RMSE (Random Forest): {mse_rf:.2f}')\n",
    "\n",
    "# Plotting results\n",
    "plt.figure(figsize=(10, 6))\n",
    "plt.plot(df.index[train_size:],test_target , label='Actual')\n",
    "plt.plot(df.index[train_size:], rf_predictions, label='Predicted')\n",
    "plt.xlabel('Date')\n",
    "plt.ylabel('Close Price')\n",
    "plt.legend()\n",
    "plt.title('Stock Market Futures Prediction')\n",
    "plt.show()"
   ]
  },
  {
   "cell_type": "code",
   "execution_count": null,
   "id": "6a97840b",
   "metadata": {
    "execution": {
     "iopub.execute_input": "2024-04-16T16:47:20.212540Z",
     "iopub.status.busy": "2024-04-16T16:47:20.212008Z",
     "iopub.status.idle": "2024-04-16T16:47:21.066017Z",
     "shell.execute_reply": "2024-04-16T16:47:21.064762Z",
     "shell.execute_reply.started": "2024-04-16T16:47:20.212503Z"
    },
    "papermill": {
     "duration": null,
     "end_time": null,
     "exception": null,
     "start_time": null,
     "status": "pending"
    },
    "tags": []
   },
   "outputs": [],
   "source": [
    "import pandas as pd\n",
    "from statsmodels.tsa.arima.model import ARIMA\n",
    "from sklearn.metrics import accuracy_score, mean_squared_error\n",
    "from math import sqrt\n",
    "from sklearn.model_selection import train_test_split\n",
    "\n",
    "# Load your dataset\n",
    "data = pd.read_csv('/kaggle/input/nifty50-stock-market-data/ADANIPORTS.csv')\n",
    "\n",
    "# Calculate the difference between Close and Open\n",
    "data['Diff'] = data['Close'] - data['Open']\n",
    "\n",
    "# Split the data into features (X) and target variable (y)\n",
    "X = data[['Prev Close', 'Open', 'High', 'Low', 'Last', 'Close', 'VWAP', 'Volume', 'Trades', 'Deliverable Volume', '%Deliverble']]\n",
    "y = data['Diff']\n",
    "\n",
    "# Train-test split\n",
    "X_train, X_test, y_train, y_test = train_test_split(X, y, test_size=0.2, random_state=42)\n",
    "\n",
    "# Fit ARIMA model\n",
    "model = ARIMA(y_train, order=(5,1,0))  # Example order, you can tune this\n",
    "model_fit = model.fit()\n",
    "\n",
    "# Make predictions\n",
    "y_pred = model_fit.forecast(steps=len(X_test))\n",
    "\n",
    "# Convert predictions to 1 or 0 based on the condition\n",
    "y_pred\n"
   ]
  },
  {
   "cell_type": "code",
   "execution_count": null,
   "id": "0f2f78ad",
   "metadata": {
    "papermill": {
     "duration": null,
     "end_time": null,
     "exception": null,
     "start_time": null,
     "status": "pending"
    },
    "tags": []
   },
   "outputs": [],
   "source": [
    "import pandas as pd\n",
    "from sklearn.ensemble import RandomForestClassifier\n",
    "from sklearn.metrics import accuracy_score, mean_squared_error\n",
    "from math import sqrt\n",
    "from sklearn.model_selection import train_test_split\n",
    "from sklearn.impute import SimpleImputer\n",
    "\n",
    "# Load your dataset\n",
    "data = pd.read_csv('/kaggle/input/nifty50-stock-market-data/ADANIPORTS.csv')\n",
    "\n",
    "# Calculate the difference between Close and Open\n",
    "data['Diff'] = data['Close'] - data['Open']\n",
    "\n",
    "# Drop rows with missing values in any column\n",
    "data.dropna(inplace=True)\n",
    "\n",
    "# Define features (X) and target variable (y)\n",
    "X = data[['Prev Close', 'Open', 'High', 'Low', 'Last', 'Close', 'VWAP', 'Volume', 'Trades', 'Deliverable Volume', '%Deliverble']]\n",
    "y = [1 if diff > 0 else 0 for diff in data['Diff']]  # Create binary labels based on 'Diff'\n",
    "\n",
    "# Train-test split\n",
    "X_train, X_test, y_train, y_test = train_test_split(X, y, test_size=0.2, random_state=42)\n",
    "\n",
    "# Handle missing values with SimpleImputer\n",
    "imputer = SimpleImputer(strategy='mean')\n",
    "X_train_imputed = imputer.fit_transform(X_train)\n",
    "X_test_imputed = imputer.transform(X_test)\n",
    "\n",
    "# Initialize and train Random Forest Classifier\n",
    "rf_classifier = RandomForestClassifier(n_estimators=100, random_state=42)  # You can adjust hyperparameters\n",
    "rf_classifier.fit(X_train_imputed, y_train)\n",
    "\n",
    "# Make predictions\n",
    "y_pred = rf_classifier.predict(X_test_imputed)\n",
    "\n",
    "# Calculate accuracy\n",
    "accuracy = accuracy_score(y_test, y_pred)\n",
    "\n",
    "# Calculate RMSE (since we're predicting binary labels, RMSE isn't typically used for classification, but we can calculate it for comparison)\n",
    "rmse = sqrt(mean_squared_error(y_test, y_pred))\n",
    "\n",
    "print(f'Accuracy: {accuracy}')\n",
    "print(f'RMSE: {rmse}')\n"
   ]
  },
  {
   "cell_type": "code",
   "execution_count": null,
   "id": "97c2d7a4",
   "metadata": {
    "execution": {
     "iopub.execute_input": "2024-04-16T16:51:11.873558Z",
     "iopub.status.busy": "2024-04-16T16:51:11.873108Z",
     "iopub.status.idle": "2024-04-16T16:51:12.371067Z",
     "shell.execute_reply": "2024-04-16T16:51:12.369970Z",
     "shell.execute_reply.started": "2024-04-16T16:51:11.873529Z"
    },
    "papermill": {
     "duration": null,
     "end_time": null,
     "exception": null,
     "start_time": null,
     "status": "pending"
    },
    "tags": []
   },
   "outputs": [],
   "source": [
    "import pandas as pd\n",
    "from xgboost import XGBClassifier\n",
    "from sklearn.metrics import accuracy_score, mean_squared_error\n",
    "from math import sqrt\n",
    "from sklearn.model_selection import train_test_split\n",
    "from sklearn.impute import SimpleImputer\n",
    "\n",
    "# Load your dataset\n",
    "data = pd.read_csv('/kaggle/input/nifty50-stock-market-data/ADANIPORTS.csv')\n",
    "\n",
    "# Calculate the difference between Close and Open\n",
    "data['Diff'] = data['Close'] - data['Open']\n",
    "\n",
    "# Drop rows with missing values in any column\n",
    "data.dropna(inplace=True)\n",
    "\n",
    "# Define features (X) and target variable (y)\n",
    "X = data[['Prev Close', 'Open', 'High', 'Low', 'Last', 'Close', 'VWAP', 'Volume', 'Trades', 'Deliverable Volume', '%Deliverble']]\n",
    "y = [1 if diff > 0 else 0 for diff in data['Diff']]  # Create binary labels based on 'Diff'\n",
    "\n",
    "# Train-test split\n",
    "X_train, X_test, y_train, y_test = train_test_split(X, y, test_size=0.2, random_state=42)\n",
    "\n",
    "# Handle missing values with SimpleImputer\n",
    "imputer = SimpleImputer(strategy='mean')\n",
    "X_train_imputed = imputer.fit_transform(X_train)\n",
    "X_test_imputed = imputer.transform(X_test)\n",
    "\n",
    "# Initialize and train XGBoost Classifier\n",
    "xgb_classifier = XGBClassifier(random_state=42)  # You can adjust hyperparameters\n",
    "xgb_classifier.fit(X_train_imputed, y_train)\n",
    "\n",
    "# Make predictions\n",
    "y_pred = xgb_classifier.predict(X_test_imputed)\n",
    "\n",
    "# Calculate accuracy\n",
    "accuracy = accuracy_score(y_test, y_pred)\n",
    "\n",
    "# Calculate RMSE (since we're predicting binary labels, RMSE isn't typically used for classification, but we can calculate it for comparison)\n",
    "rmse = sqrt(mean_squared_error(y_test, y_pred))\n",
    "\n",
    "print(f'Accuracy: {accuracy}')\n",
    "print(f'RMSE: {rmse}')\n"
   ]
  },
  {
   "cell_type": "code",
   "execution_count": null,
   "id": "979a9af8",
   "metadata": {
    "execution": {
     "iopub.execute_input": "2024-04-16T16:52:04.039979Z",
     "iopub.status.busy": "2024-04-16T16:52:04.038648Z",
     "iopub.status.idle": "2024-04-16T16:52:04.173073Z",
     "shell.execute_reply": "2024-04-16T16:52:04.171732Z",
     "shell.execute_reply.started": "2024-04-16T16:52:04.039933Z"
    },
    "papermill": {
     "duration": null,
     "end_time": null,
     "exception": null,
     "start_time": null,
     "status": "pending"
    },
    "tags": []
   },
   "outputs": [],
   "source": [
    "import pandas as pd\n",
    "from sklearn.linear_model import LogisticRegression\n",
    "from sklearn.metrics import accuracy_score, mean_squared_error\n",
    "from math import sqrt\n",
    "from sklearn.model_selection import train_test_split\n",
    "from sklearn.impute import SimpleImputer\n",
    "\n",
    "# Load your dataset\n",
    "data = pd.read_csv('/kaggle/input/nifty50-stock-market-data/ADANIPORTS.csv')\n",
    "\n",
    "# Calculate the difference between Close and Open\n",
    "data['Diff'] = data['Close'] - data['Open']\n",
    "\n",
    "# Drop rows with missing values in any column\n",
    "data.dropna(inplace=True)\n",
    "\n",
    "# Define features (X) and target variable (y)\n",
    "X = data[['Prev Close', 'Open', 'High', 'Low', 'Last', 'Close', 'VWAP', 'Volume', 'Trades', 'Deliverable Volume', '%Deliverble']]\n",
    "y = [1 if diff > 0 else 0 for diff in data['Diff']]  # Create binary labels based on 'Diff'\n",
    "\n",
    "# Train-test split\n",
    "X_train, X_test, y_train, y_test = train_test_split(X, y, test_size=0.2, random_state=42)\n",
    "\n",
    "# Handle missing values with SimpleImputer\n",
    "imputer = SimpleImputer(strategy='mean')\n",
    "X_train_imputed = imputer.fit_transform(X_train)\n",
    "X_test_imputed = imputer.transform(X_test)\n",
    "\n",
    "# Initialize and train Logistic Regression Classifier\n",
    "logreg_classifier = LogisticRegression(random_state=42)  # You can adjust hyperparameters\n",
    "logreg_classifier.fit(X_train_imputed, y_train)\n",
    "\n",
    "# Make predictions\n",
    "y_pred = logreg_classifier.predict(X_test_imputed)\n",
    "\n",
    "# Calculate accuracy\n",
    "accuracy = accuracy_score(y_test, y_pred)\n",
    "\n",
    "# Calculate RMSE (since we're predicting binary labels, RMSE isn't typically used for classification, but we can calculate it for comparison)\n",
    "rmse = sqrt(mean_squared_error(y_test, y_pred))\n",
    "\n",
    "print(f'Accuracy: {accuracy}')\n",
    "print(f'RMSE: {rmse}')\n"
   ]
  },
  {
   "cell_type": "code",
   "execution_count": null,
   "id": "ebb386d0",
   "metadata": {
    "execution": {
     "iopub.execute_input": "2024-04-16T16:53:20.672377Z",
     "iopub.status.busy": "2024-04-16T16:53:20.671612Z"
    },
    "papermill": {
     "duration": null,
     "end_time": null,
     "exception": null,
     "start_time": null,
     "status": "pending"
    },
    "tags": []
   },
   "outputs": [],
   "source": []
  },
  {
   "cell_type": "code",
   "execution_count": null,
   "id": "bb3d22ab",
   "metadata": {
    "papermill": {
     "duration": null,
     "end_time": null,
     "exception": null,
     "start_time": null,
     "status": "pending"
    },
    "tags": []
   },
   "outputs": [],
   "source": [
    "import pandas as pd\n",
    "from arch import arch_model\n",
    "from sklearn.metrics import mean_squared_error\n",
    "from math import sqrt\n",
    "from sklearn.model_selection import train_test_split\n",
    "from sklearn.impute import SimpleImputer\n",
    "\n",
    "# Load your dataset\n",
    "data = pd.read_csv('your_dataset.csv')\n",
    "\n",
    "# Calculate the difference between Close and Open\n",
    "data['Diff'] = data['Close'] - data['Open']\n",
    "\n",
    "# Drop rows with missing values in any column\n",
    "data.dropna(inplace=True)\n",
    "\n",
    "# Define the target variable (volatility, which is the square root of variance)\n",
    "y = data['Diff']\n",
    "\n",
    "# Train-test split\n",
    "y_train, y_test = train_test_split(y, test_size=0.2, random_state=42)\n",
    "\n",
    "# Initialize and fit GARCH(1,1) model\n",
    "garch_model = arch_model(y_train, vol='GARCH', p=1, q=1)\n",
    "garch_result = garch_model.fit()\n",
    "\n",
    "# Make predictions for the test set\n",
    "y_pred, _ = garch_result.forecast(start=len(y_train), horizon=len(y_test))\n",
    "\n",
    "# Calculate RMSE\n",
    "rmse = sqrt(mean_squared_error(y_test, y_pred))\n",
    "\n",
    "print(f'GARCH(1,1) RMSE: {rmse}')\n"
   ]
  },
  {
   "cell_type": "code",
   "execution_count": null,
   "id": "3df7b167",
   "metadata": {
    "papermill": {
     "duration": null,
     "end_time": null,
     "exception": null,
     "start_time": null,
     "status": "pending"
    },
    "tags": []
   },
   "outputs": [],
   "source": [
    "import pandas as pd\n",
    "import numpy as np\n",
    "from sklearn.preprocessing import MinMaxScaler\n",
    "from tensorflow.keras.models import Sequential\n",
    "from tensorflow.keras.layers import LSTM, Dense\n",
    "from sklearn.metrics import accuracy_score\n",
    "from sklearn.model_selection import train_test_split\n",
    "from sklearn.impute import SimpleImputer\n",
    "\n",
    "# Load your dataset\n",
    "data = pd.read_csv('your_dataset.csv')\n",
    "\n",
    "# Calculate the difference between Close and Open\n",
    "data['Diff'] = data['Close'] - data['Open']\n",
    "\n",
    "# Drop rows with missing values in any column\n",
    "data.dropna(inplace=True)\n",
    "\n",
    "# Define features (X) and target variable (y)\n",
    "X = data[['Prev Close', 'Open', 'High', 'Low', 'Last', 'Close', 'VWAP', 'Volume', 'Trades', 'Deliverable Volume', '%Deliverble']]\n",
    "y = [1 if diff > 0 else 0 for diff in data['Diff']]  # Create binary labels based on 'Diff'\n",
    "\n",
    "# Train-test split\n",
    "X_train, X_test, y_train, y_test = train_test_split(X, y, test_size=0.2, random_state=42)\n",
    "\n",
    "# Handle missing values with SimpleImputer\n",
    "imputer = SimpleImputer(strategy='mean')\n",
    "X_train_imputed = imputer.fit_transform(X_train)\n",
    "X_test_imputed = imputer.transform(X_test)\n",
    "\n",
    "# Normalize the features\n",
    "scaler = MinMaxScaler()\n",
    "X_train_scaled = scaler.fit_transform(X_train_imputed)\n",
    "X_test_scaled = scaler.transform(X_test_imputed)\n",
    "\n",
    "# Reshape the data for LSTM input (samples, time steps, features)\n",
    "n_steps = 1\n",
    "X_train_reshaped = X_train_scaled.reshape((X_train_scaled.shape[0], n_steps, X_train_scaled.shape[1]))\n",
    "X_test_reshaped = X_test_scaled.reshape((X_test_scaled.shape[0], n_steps, X_test_scaled.shape[1]))\n",
    "\n",
    "# Build the LSTM model\n",
    "model = Sequential()\n",
    "model.add(LSTM(50, activation='relu', input_shape=(n_steps, X_train_scaled.shape[1])))\n",
    "model.add(Dense(1, activation='sigmoid'))\n",
    "model.compile(optimizer='adam', loss='binary_crossentropy', metrics=['accuracy'])\n",
    "\n",
    "# Train the model\n",
    "model.fit(X_train_reshaped, y_train, epochs=50, batch_size=32, verbose=1)\n",
    "\n",
    "# Evaluate the model\n",
    "y_pred = model.predict_classes(X_test_reshaped)\n",
    "accuracy = accuracy_score(y_test, y_pred)\n",
    "\n",
    "print(f'LSTM Accuracy: {accuracy}')\n"
   ]
  },
  {
   "cell_type": "code",
   "execution_count": null,
   "id": "80936ef8",
   "metadata": {
    "papermill": {
     "duration": null,
     "end_time": null,
     "exception": null,
     "start_time": null,
     "status": "pending"
    },
    "tags": []
   },
   "outputs": [],
   "source": [
    "import pandas as pd\n",
    "import numpy as np\n",
    "from statsmodels.tsa.statespace.sarimax import SARIMAX\n",
    "from sklearn.metrics import accuracy_score\n",
    "from sklearn.model_selection import train_test_split\n",
    "from sklearn.impute import SimpleImputer\n",
    "\n",
    "# Load your dataset\n",
    "data = pd.read_csv('your_dataset.csv')\n",
    "\n",
    "# Calculate the difference between Close and Open\n",
    "data['Diff'] = data['Close'] - data['Open']\n",
    "\n",
    "# Drop rows with missing values in any column\n",
    "data.dropna(inplace=True)\n",
    "\n",
    "# Define the target variable (y)\n",
    "y = [1 if diff > 0 else 0 for diff in data['Diff']]  # Create binary labels based on 'Diff'\n",
    "\n",
    "# Train-test split\n",
    "y_train, y_test = train_test_split(y, test_size=0.2, random_state=42)\n",
    "\n",
    "# Initialize and fit SARIMA model\n",
    "sarima_model = SARIMAX(y_train, order=(1, 0, 1), seasonal_order=(1, 0, 1, 12))\n",
    "sarima_result = sarima_model.fit()\n",
    "\n",
    "# Make predictions for the test set\n",
    "y_pred = sarima_result.forecast(steps=len(y_test))\n",
    "\n",
    "# Convert predictions to binary labels (1 if forecasted value > 0, else 0)\n",
    "y_pred_binary = [1 if pred > 0 else 0 for pred in y_pred]\n",
    "\n",
    "# Calculate accuracy\n",
    "accuracy = accuracy_score(y_test, y_pred_binary)\n",
    "\n",
    "print(f'SARIMA Accuracy: {accuracy}')\n"
   ]
  },
  {
   "cell_type": "code",
   "execution_count": null,
   "id": "8b16e088",
   "metadata": {
    "papermill": {
     "duration": null,
     "end_time": null,
     "exception": null,
     "start_time": null,
     "status": "pending"
    },
    "tags": []
   },
   "outputs": [],
   "source": [
    "import pandas as pd\n",
    "from sklearn.svm import SVC\n",
    "from sklearn.metrics import accuracy_score, mean_squared_error\n",
    "from math import sqrt\n",
    "from sklearn.model_selection import train_test_split\n",
    "from sklearn.impute import SimpleImputer\n",
    "\n",
    "# Load your dataset\n",
    "data = pd.read_csv('/kaggle/input/nifty50-stock-market-data/ADANIPORTS.csv')\n",
    "\n",
    "# Calculate the difference between Close and Open\n",
    "data['Diff'] = data['Close'] - data['Open']\n",
    "\n",
    "# Drop rows with missing values in any column\n",
    "data.dropna(inplace=True)\n",
    "\n",
    "# Define features (X) and target variable (y)\n",
    "X = data[['Prev Close', 'Open', 'High', 'Low', 'Last', 'Close', 'VWAP', 'Volume', 'Trades', 'Deliverable Volume', '%Deliverble']]\n",
    "y = [1 if diff > 0 else 0 for diff in data['Diff']]  # Create binary labels based on 'Diff'\n",
    "\n",
    "# Train-test split\n",
    "X_train, X_test, y_train, y_test = train_test_split(X, y, test_size=0.2, random_state=42)\n",
    "\n",
    "# Handle missing values with SimpleImputer\n",
    "imputer = SimpleImputer(strategy='mean')\n",
    "X_train_imputed = imputer.fit_transform(X_train)\n",
    "X_test_imputed = imputer.transform(X_test)\n",
    "\n",
    "# Initialize and train Linear SVM Classifier\n",
    "svm_classifier = SVC(kernel='linear', random_state=42)  # Linear kernel for Linear SVM\n",
    "svm_classifier.fit(X_train_imputed, y_train)\n",
    "\n",
    "# Make predictions\n",
    "y_pred = svm_classifier.predict(X_test_imputed)\n",
    "\n",
    "# Calculate accuracy\n",
    "accuracy = accuracy_score(y_test, y_pred)\n",
    "\n",
    "# Calculate RMSE (since we're predicting binary labels, RMSE isn't typically used for classification, but we can calculate it for comparison)\n",
    "rmse = sqrt(mean_squared_error(y_test, y_pred))\n",
    "\n",
    "print(f'Linear SVM Accuracy: {accuracy}')\n",
    "print(f'Linear SVM RMSE: {rmse}')\n"
   ]
  }
 ],
 "metadata": {
  "kaggle": {
   "accelerator": "none",
   "dataSources": [
    {
     "datasetId": 423609,
     "sourceId": 2179861,
     "sourceType": "datasetVersion"
    }
   ],
   "dockerImageVersionId": 30684,
   "isGpuEnabled": false,
   "isInternetEnabled": true,
   "language": "python",
   "sourceType": "notebook"
  },
  "kernelspec": {
   "display_name": "Python 3",
   "language": "python",
   "name": "python3"
  },
  "language_info": {
   "codemirror_mode": {
    "name": "ipython",
    "version": 3
   },
   "file_extension": ".py",
   "mimetype": "text/x-python",
   "name": "python",
   "nbconvert_exporter": "python",
   "pygments_lexer": "ipython3",
   "version": "3.10.13"
  },
  "papermill": {
   "default_parameters": {},
   "duration": 41.107436,
   "end_time": "2024-04-16T17:13:33.756701",
   "environment_variables": {},
   "exception": true,
   "input_path": "__notebook__.ipynb",
   "output_path": "__notebook__.ipynb",
   "parameters": {},
   "start_time": "2024-04-16T17:12:52.649265",
   "version": "2.5.0"
  }
 },
 "nbformat": 4,
 "nbformat_minor": 5
}
